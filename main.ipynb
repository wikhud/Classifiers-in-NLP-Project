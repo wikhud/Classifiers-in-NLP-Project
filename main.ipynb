{
  "cells": [
    {
      "cell_type": "markdown",
      "metadata": {
        "id": "_83wASH57v2q"
      },
      "source": [
        "# install"
      ]
    },
    {
      "cell_type": "code",
      "execution_count": 1,
      "metadata": {
        "colab": {
          "base_uri": "https://localhost:8080/"
        },
        "id": "dwrdNVwDzOuf",
        "outputId": "9c1a9466-4d8a-4279-b640-5e07e08d28b3"
      },
      "outputs": [
        {
          "output_type": "stream",
          "name": "stdout",
          "text": [
            "Collecting fasttext\n",
            "  Downloading fasttext-0.9.2.tar.gz (68 kB)\n",
            "\u001b[2K     \u001b[90m━━━━━━━━━━━━━━━━━━━━━━━━━━━━━━━━━━━━━━━━\u001b[0m \u001b[32m68.8/68.8 kB\u001b[0m \u001b[31m1.1 MB/s\u001b[0m eta \u001b[36m0:00:00\u001b[0m\n",
            "\u001b[?25h  Preparing metadata (setup.py) ... \u001b[?25l\u001b[?25hdone\n",
            "Collecting pybind11>=2.2 (from fasttext)\n",
            "  Using cached pybind11-2.11.1-py3-none-any.whl (227 kB)\n",
            "Requirement already satisfied: setuptools>=0.7.0 in /usr/local/lib/python3.10/dist-packages (from fasttext) (67.7.2)\n",
            "Requirement already satisfied: numpy in /usr/local/lib/python3.10/dist-packages (from fasttext) (1.22.4)\n",
            "Building wheels for collected packages: fasttext\n",
            "  Building wheel for fasttext (setup.py) ... \u001b[?25l\u001b[?25hdone\n",
            "  Created wheel for fasttext: filename=fasttext-0.9.2-cp310-cp310-linux_x86_64.whl size=4199773 sha256=8d70f2a4b778f4acd8301c3ce5af7a1f5e240d8488fc807fa58cf78403fa6c9e\n",
            "  Stored in directory: /root/.cache/pip/wheels/a5/13/75/f811c84a8ab36eedbaef977a6a58a98990e8e0f1967f98f394\n",
            "Successfully built fasttext\n",
            "Installing collected packages: pybind11, fasttext\n",
            "Successfully installed fasttext-0.9.2 pybind11-2.11.1\n",
            "Collecting sastrawi\n",
            "  Downloading Sastrawi-1.0.1-py2.py3-none-any.whl (209 kB)\n",
            "\u001b[2K     \u001b[90m━━━━━━━━━━━━━━━━━━━━━━━━━━━━━━━━━━━━━━━\u001b[0m \u001b[32m209.7/209.7 kB\u001b[0m \u001b[31m3.9 MB/s\u001b[0m eta \u001b[36m0:00:00\u001b[0m\n",
            "\u001b[?25hInstalling collected packages: sastrawi\n",
            "Successfully installed sastrawi-1.0.1\n",
            "Collecting transformers\n",
            "  Downloading transformers-4.31.0-py3-none-any.whl (7.4 MB)\n",
            "\u001b[2K     \u001b[90m━━━━━━━━━━━━━━━━━━━━━━━━━━━━━━━━━━━━━━━━\u001b[0m \u001b[32m7.4/7.4 MB\u001b[0m \u001b[31m67.2 MB/s\u001b[0m eta \u001b[36m0:00:00\u001b[0m\n",
            "\u001b[?25hRequirement already satisfied: filelock in /usr/local/lib/python3.10/dist-packages (from transformers) (3.12.2)\n",
            "Collecting huggingface-hub<1.0,>=0.14.1 (from transformers)\n",
            "  Downloading huggingface_hub-0.16.4-py3-none-any.whl (268 kB)\n",
            "\u001b[2K     \u001b[90m━━━━━━━━━━━━━━━━━━━━━━━━━━━━━━━━━━━━━━\u001b[0m \u001b[32m268.8/268.8 kB\u001b[0m \u001b[31m33.3 MB/s\u001b[0m eta \u001b[36m0:00:00\u001b[0m\n",
            "\u001b[?25hRequirement already satisfied: numpy>=1.17 in /usr/local/lib/python3.10/dist-packages (from transformers) (1.22.4)\n",
            "Requirement already satisfied: packaging>=20.0 in /usr/local/lib/python3.10/dist-packages (from transformers) (23.1)\n",
            "Requirement already satisfied: pyyaml>=5.1 in /usr/local/lib/python3.10/dist-packages (from transformers) (6.0.1)\n",
            "Requirement already satisfied: regex!=2019.12.17 in /usr/local/lib/python3.10/dist-packages (from transformers) (2022.10.31)\n",
            "Requirement already satisfied: requests in /usr/local/lib/python3.10/dist-packages (from transformers) (2.27.1)\n",
            "Collecting tokenizers!=0.11.3,<0.14,>=0.11.1 (from transformers)\n",
            "  Downloading tokenizers-0.13.3-cp310-cp310-manylinux_2_17_x86_64.manylinux2014_x86_64.whl (7.8 MB)\n",
            "\u001b[2K     \u001b[90m━━━━━━━━━━━━━━━━━━━━━━━━━━━━━━━━━━━━━━━━\u001b[0m \u001b[32m7.8/7.8 MB\u001b[0m \u001b[31m110.4 MB/s\u001b[0m eta \u001b[36m0:00:00\u001b[0m\n",
            "\u001b[?25hCollecting safetensors>=0.3.1 (from transformers)\n",
            "  Downloading safetensors-0.3.1-cp310-cp310-manylinux_2_17_x86_64.manylinux2014_x86_64.whl (1.3 MB)\n",
            "\u001b[2K     \u001b[90m━━━━━━━━━━━━━━━━━━━━━━━━━━━━━━━━━━━━━━━━\u001b[0m \u001b[32m1.3/1.3 MB\u001b[0m \u001b[31m82.8 MB/s\u001b[0m eta \u001b[36m0:00:00\u001b[0m\n",
            "\u001b[?25hRequirement already satisfied: tqdm>=4.27 in /usr/local/lib/python3.10/dist-packages (from transformers) (4.65.0)\n",
            "Requirement already satisfied: fsspec in /usr/local/lib/python3.10/dist-packages (from huggingface-hub<1.0,>=0.14.1->transformers) (2023.6.0)\n",
            "Requirement already satisfied: typing-extensions>=3.7.4.3 in /usr/local/lib/python3.10/dist-packages (from huggingface-hub<1.0,>=0.14.1->transformers) (4.7.1)\n",
            "Requirement already satisfied: urllib3<1.27,>=1.21.1 in /usr/local/lib/python3.10/dist-packages (from requests->transformers) (1.26.16)\n",
            "Requirement already satisfied: certifi>=2017.4.17 in /usr/local/lib/python3.10/dist-packages (from requests->transformers) (2023.7.22)\n",
            "Requirement already satisfied: charset-normalizer~=2.0.0 in /usr/local/lib/python3.10/dist-packages (from requests->transformers) (2.0.12)\n",
            "Requirement already satisfied: idna<4,>=2.5 in /usr/local/lib/python3.10/dist-packages (from requests->transformers) (3.4)\n",
            "Installing collected packages: tokenizers, safetensors, huggingface-hub, transformers\n",
            "Successfully installed huggingface-hub-0.16.4 safetensors-0.3.1 tokenizers-0.13.3 transformers-4.31.0\n"
          ]
        }
      ],
      "source": [
        "!pip install fasttext\n",
        "!pip install sastrawi # indian language stem\n",
        "!pip install transformers"
      ]
    },
    {
      "cell_type": "code",
      "execution_count": 2,
      "metadata": {
        "id": "tRs5vSF_yzgk"
      },
      "outputs": [],
      "source": [
        "import pandas as pd\n",
        "import numpy as np\n",
        "\n",
        "from Sastrawi.StopWordRemover.StopWordRemoverFactory import StopWordRemoverFactory\n",
        "from Sastrawi.Stemmer.StemmerFactory import StemmerFactory\n",
        "\n",
        "import fasttext\n",
        "\n",
        "from sklearn.cluster import KMeans\n",
        "from sklearn.decomposition import PCA\n",
        "\n",
        "import matplotlib.pyplot as plt\n",
        "from mpl_toolkits.mplot3d import Axes3D"
      ]
    },
    {
      "cell_type": "code",
      "execution_count": 3,
      "metadata": {
        "colab": {
          "base_uri": "https://localhost:8080/"
        },
        "id": "eaURUO-Ny3Hs",
        "outputId": "c95df0ef-f4f9-4bed-c2f0-9efaab7c7283"
      },
      "outputs": [
        {
          "output_type": "stream",
          "name": "stdout",
          "text": [
            "Downloading...\n",
            "From: https://drive.google.com/uc?id=1AAN0R-vTkpx9Mwp6JprRqK6fxOFPL6oK\n",
            "To: /content/traffic_twitter.zip\n",
            "100% 329M/329M [00:06<00:00, 52.3MB/s]\n"
          ]
        }
      ],
      "source": [
        "# download dataset https://www.kaggle.com/datasets/dodyagung/accident\n",
        "!gdown 1AAN0R-vTkpx9Mwp6JprRqK6fxOFPL6oK"
      ]
    },
    {
      "cell_type": "code",
      "execution_count": 4,
      "metadata": {
        "colab": {
          "base_uri": "https://localhost:8080/"
        },
        "id": "s1_PRyege-8N",
        "outputId": "cce27702-2e96-4f26-ff6c-5b0729663c6d"
      },
      "outputs": [
        {
          "output_type": "stream",
          "name": "stdout",
          "text": [
            "--2023-08-07 21:39:31--  http://nlp.stanford.edu/data/glove.6B.zip\n",
            "Resolving nlp.stanford.edu (nlp.stanford.edu)... 171.64.67.140\n",
            "Connecting to nlp.stanford.edu (nlp.stanford.edu)|171.64.67.140|:80... connected.\n",
            "HTTP request sent, awaiting response... 302 Found\n",
            "Location: https://nlp.stanford.edu/data/glove.6B.zip [following]\n",
            "--2023-08-07 21:39:31--  https://nlp.stanford.edu/data/glove.6B.zip\n",
            "Connecting to nlp.stanford.edu (nlp.stanford.edu)|171.64.67.140|:443... connected.\n",
            "HTTP request sent, awaiting response... 301 Moved Permanently\n",
            "Location: https://downloads.cs.stanford.edu/nlp/data/glove.6B.zip [following]\n",
            "--2023-08-07 21:39:32--  https://downloads.cs.stanford.edu/nlp/data/glove.6B.zip\n",
            "Resolving downloads.cs.stanford.edu (downloads.cs.stanford.edu)... 171.64.64.22\n",
            "Connecting to downloads.cs.stanford.edu (downloads.cs.stanford.edu)|171.64.64.22|:443... connected.\n",
            "HTTP request sent, awaiting response... 200 OK\n",
            "Length: 862182613 (822M) [application/zip]\n",
            "Saving to: ‘glove.6B.zip’\n",
            "\n",
            "glove.6B.zip        100%[===================>] 822.24M  5.02MB/s    in 2m 39s  \n",
            "\n",
            "2023-08-07 21:42:12 (5.17 MB/s) - ‘glove.6B.zip’ saved [862182613/862182613]\n",
            "\n",
            "Archive:  glove.6B.zip\n",
            "  inflating: glove/glove.6B.50d.txt  \n",
            "  inflating: glove/glove.6B.100d.txt  \n",
            "  inflating: glove/glove.6B.200d.txt  \n",
            "  inflating: glove/glove.6B.300d.txt  \n"
          ]
        }
      ],
      "source": [
        "# Download the pre-trained GloVe embeddings\n",
        "!wget http://nlp.stanford.edu/data/glove.6B.zip\n",
        "!unzip glove.6B.zip -d glove\n"
      ]
    },
    {
      "cell_type": "code",
      "execution_count": 5,
      "metadata": {
        "colab": {
          "base_uri": "https://localhost:8080/"
        },
        "id": "nE5qm_yn1FvU",
        "outputId": "41f750e9-64a4-49de-86b3-e3283daf4ca9"
      },
      "outputs": [
        {
          "output_type": "stream",
          "name": "stdout",
          "text": [
            "Archive:  traffic_twitter.zip\n",
            "  inflating: twitter.csv             \n",
            "  inflating: twitter_label_auto.csv  \n",
            "  inflating: twitter_label_manual.csv  \n"
          ]
        }
      ],
      "source": [
        "!unzip traffic_twitter.zip"
      ]
    },
    {
      "cell_type": "code",
      "execution_count": 6,
      "metadata": {
        "id": "2YJcAVoKy1Lx"
      },
      "outputs": [],
      "source": [
        "data = pd.read_csv('twitter_label_manual.csv')"
      ]
    },
    {
      "cell_type": "markdown",
      "metadata": {
        "id": "y8ZDmeTF_ptg"
      },
      "source": [
        "# preprocess"
      ]
    },
    {
      "cell_type": "code",
      "execution_count": 7,
      "metadata": {
        "colab": {
          "base_uri": "https://localhost:8080/",
          "height": 337
        },
        "id": "2x45g-5f1I0b",
        "outputId": "fd30b64a-4ba6-45b7-e3c4-0c8b0ea574f0"
      },
      "outputs": [
        {
          "output_type": "execute_result",
          "data": {
            "text/plain": [
              "                id_str           created_at           crawled_at  \\\n",
              "0  1113976371515146240  2019-04-05 08:27:18  2020-02-08 12:30:29   \n",
              "1  1114010329313206272  2019-04-05 10:42:14  2020-02-08 12:30:43   \n",
              "2  1114037478237855745  2019-04-05 12:30:07  2020-02-08 12:30:56   \n",
              "3  1114121169873932288  2019-04-05 18:02:40  2020-02-08 12:31:38   \n",
              "4  1114149728323682305  2019-04-05 19:56:09  2020-02-08 12:31:54   \n",
              "\n",
              "       screen_name  is_accident  \\\n",
              "0        mrahmatr7            1   \n",
              "1      PanritaNews            1   \n",
              "2          VICE_ID            0   \n",
              "3  OfficialSyariah            0   \n",
              "4     AhliAsuransi            0   \n",
              "\n",
              "                                           full_text  \n",
              "0  Rekaman CCTV Kecelakaan Motor di PIK, depan Ta...  \n",
              "1  Tewaskan 346 Orang dalam 2 Kecelakaan, Boss Bo...  \n",
              "2  Anggota parlemen Taiwan juga berencana meningk...  \n",
              "3  C.Gerakan.bicara pertolongan pertama pada kece...  \n",
              "4  Asuransi mana nih??\\n\\nhttps://t.co/AJyABmimcY...  "
            ],
            "text/html": [
              "\n",
              "\n",
              "  <div id=\"df-0211d6fa-185d-4b38-a5d8-8c2a279e266a\">\n",
              "    <div class=\"colab-df-container\">\n",
              "      <div>\n",
              "<style scoped>\n",
              "    .dataframe tbody tr th:only-of-type {\n",
              "        vertical-align: middle;\n",
              "    }\n",
              "\n",
              "    .dataframe tbody tr th {\n",
              "        vertical-align: top;\n",
              "    }\n",
              "\n",
              "    .dataframe thead th {\n",
              "        text-align: right;\n",
              "    }\n",
              "</style>\n",
              "<table border=\"1\" class=\"dataframe\">\n",
              "  <thead>\n",
              "    <tr style=\"text-align: right;\">\n",
              "      <th></th>\n",
              "      <th>id_str</th>\n",
              "      <th>created_at</th>\n",
              "      <th>crawled_at</th>\n",
              "      <th>screen_name</th>\n",
              "      <th>is_accident</th>\n",
              "      <th>full_text</th>\n",
              "    </tr>\n",
              "  </thead>\n",
              "  <tbody>\n",
              "    <tr>\n",
              "      <th>0</th>\n",
              "      <td>1113976371515146240</td>\n",
              "      <td>2019-04-05 08:27:18</td>\n",
              "      <td>2020-02-08 12:30:29</td>\n",
              "      <td>mrahmatr7</td>\n",
              "      <td>1</td>\n",
              "      <td>Rekaman CCTV Kecelakaan Motor di PIK, depan Ta...</td>\n",
              "    </tr>\n",
              "    <tr>\n",
              "      <th>1</th>\n",
              "      <td>1114010329313206272</td>\n",
              "      <td>2019-04-05 10:42:14</td>\n",
              "      <td>2020-02-08 12:30:43</td>\n",
              "      <td>PanritaNews</td>\n",
              "      <td>1</td>\n",
              "      <td>Tewaskan 346 Orang dalam 2 Kecelakaan, Boss Bo...</td>\n",
              "    </tr>\n",
              "    <tr>\n",
              "      <th>2</th>\n",
              "      <td>1114037478237855745</td>\n",
              "      <td>2019-04-05 12:30:07</td>\n",
              "      <td>2020-02-08 12:30:56</td>\n",
              "      <td>VICE_ID</td>\n",
              "      <td>0</td>\n",
              "      <td>Anggota parlemen Taiwan juga berencana meningk...</td>\n",
              "    </tr>\n",
              "    <tr>\n",
              "      <th>3</th>\n",
              "      <td>1114121169873932288</td>\n",
              "      <td>2019-04-05 18:02:40</td>\n",
              "      <td>2020-02-08 12:31:38</td>\n",
              "      <td>OfficialSyariah</td>\n",
              "      <td>0</td>\n",
              "      <td>C.Gerakan.bicara pertolongan pertama pada kece...</td>\n",
              "    </tr>\n",
              "    <tr>\n",
              "      <th>4</th>\n",
              "      <td>1114149728323682305</td>\n",
              "      <td>2019-04-05 19:56:09</td>\n",
              "      <td>2020-02-08 12:31:54</td>\n",
              "      <td>AhliAsuransi</td>\n",
              "      <td>0</td>\n",
              "      <td>Asuransi mana nih??\\n\\nhttps://t.co/AJyABmimcY...</td>\n",
              "    </tr>\n",
              "  </tbody>\n",
              "</table>\n",
              "</div>\n",
              "      <button class=\"colab-df-convert\" onclick=\"convertToInteractive('df-0211d6fa-185d-4b38-a5d8-8c2a279e266a')\"\n",
              "              title=\"Convert this dataframe to an interactive table.\"\n",
              "              style=\"display:none;\">\n",
              "\n",
              "  <svg xmlns=\"http://www.w3.org/2000/svg\" height=\"24px\"viewBox=\"0 0 24 24\"\n",
              "       width=\"24px\">\n",
              "    <path d=\"M0 0h24v24H0V0z\" fill=\"none\"/>\n",
              "    <path d=\"M18.56 5.44l.94 2.06.94-2.06 2.06-.94-2.06-.94-.94-2.06-.94 2.06-2.06.94zm-11 1L8.5 8.5l.94-2.06 2.06-.94-2.06-.94L8.5 2.5l-.94 2.06-2.06.94zm10 10l.94 2.06.94-2.06 2.06-.94-2.06-.94-.94-2.06-.94 2.06-2.06.94z\"/><path d=\"M17.41 7.96l-1.37-1.37c-.4-.4-.92-.59-1.43-.59-.52 0-1.04.2-1.43.59L10.3 9.45l-7.72 7.72c-.78.78-.78 2.05 0 2.83L4 21.41c.39.39.9.59 1.41.59.51 0 1.02-.2 1.41-.59l7.78-7.78 2.81-2.81c.8-.78.8-2.07 0-2.86zM5.41 20L4 18.59l7.72-7.72 1.47 1.35L5.41 20z\"/>\n",
              "  </svg>\n",
              "      </button>\n",
              "\n",
              "\n",
              "\n",
              "    <div id=\"df-bd235302-c226-4059-816d-1be137fb6318\">\n",
              "      <button class=\"colab-df-quickchart\" onclick=\"quickchart('df-bd235302-c226-4059-816d-1be137fb6318')\"\n",
              "              title=\"Suggest charts.\"\n",
              "              style=\"display:none;\">\n",
              "\n",
              "<svg xmlns=\"http://www.w3.org/2000/svg\" height=\"24px\"viewBox=\"0 0 24 24\"\n",
              "     width=\"24px\">\n",
              "    <g>\n",
              "        <path d=\"M19 3H5c-1.1 0-2 .9-2 2v14c0 1.1.9 2 2 2h14c1.1 0 2-.9 2-2V5c0-1.1-.9-2-2-2zM9 17H7v-7h2v7zm4 0h-2V7h2v10zm4 0h-2v-4h2v4z\"/>\n",
              "    </g>\n",
              "</svg>\n",
              "      </button>\n",
              "    </div>\n",
              "\n",
              "<style>\n",
              "  .colab-df-quickchart {\n",
              "    background-color: #E8F0FE;\n",
              "    border: none;\n",
              "    border-radius: 50%;\n",
              "    cursor: pointer;\n",
              "    display: none;\n",
              "    fill: #1967D2;\n",
              "    height: 32px;\n",
              "    padding: 0 0 0 0;\n",
              "    width: 32px;\n",
              "  }\n",
              "\n",
              "  .colab-df-quickchart:hover {\n",
              "    background-color: #E2EBFA;\n",
              "    box-shadow: 0px 1px 2px rgba(60, 64, 67, 0.3), 0px 1px 3px 1px rgba(60, 64, 67, 0.15);\n",
              "    fill: #174EA6;\n",
              "  }\n",
              "\n",
              "  [theme=dark] .colab-df-quickchart {\n",
              "    background-color: #3B4455;\n",
              "    fill: #D2E3FC;\n",
              "  }\n",
              "\n",
              "  [theme=dark] .colab-df-quickchart:hover {\n",
              "    background-color: #434B5C;\n",
              "    box-shadow: 0px 1px 3px 1px rgba(0, 0, 0, 0.15);\n",
              "    filter: drop-shadow(0px 1px 2px rgba(0, 0, 0, 0.3));\n",
              "    fill: #FFFFFF;\n",
              "  }\n",
              "</style>\n",
              "\n",
              "    <script>\n",
              "      async function quickchart(key) {\n",
              "        const containerElement = document.querySelector('#' + key);\n",
              "        const charts = await google.colab.kernel.invokeFunction(\n",
              "            'suggestCharts', [key], {});\n",
              "      }\n",
              "    </script>\n",
              "\n",
              "      <script>\n",
              "\n",
              "function displayQuickchartButton(domScope) {\n",
              "  let quickchartButtonEl =\n",
              "    domScope.querySelector('#df-bd235302-c226-4059-816d-1be137fb6318 button.colab-df-quickchart');\n",
              "  quickchartButtonEl.style.display =\n",
              "    google.colab.kernel.accessAllowed ? 'block' : 'none';\n",
              "}\n",
              "\n",
              "        displayQuickchartButton(document);\n",
              "      </script>\n",
              "      <style>\n",
              "    .colab-df-container {\n",
              "      display:flex;\n",
              "      flex-wrap:wrap;\n",
              "      gap: 12px;\n",
              "    }\n",
              "\n",
              "    .colab-df-convert {\n",
              "      background-color: #E8F0FE;\n",
              "      border: none;\n",
              "      border-radius: 50%;\n",
              "      cursor: pointer;\n",
              "      display: none;\n",
              "      fill: #1967D2;\n",
              "      height: 32px;\n",
              "      padding: 0 0 0 0;\n",
              "      width: 32px;\n",
              "    }\n",
              "\n",
              "    .colab-df-convert:hover {\n",
              "      background-color: #E2EBFA;\n",
              "      box-shadow: 0px 1px 2px rgba(60, 64, 67, 0.3), 0px 1px 3px 1px rgba(60, 64, 67, 0.15);\n",
              "      fill: #174EA6;\n",
              "    }\n",
              "\n",
              "    [theme=dark] .colab-df-convert {\n",
              "      background-color: #3B4455;\n",
              "      fill: #D2E3FC;\n",
              "    }\n",
              "\n",
              "    [theme=dark] .colab-df-convert:hover {\n",
              "      background-color: #434B5C;\n",
              "      box-shadow: 0px 1px 3px 1px rgba(0, 0, 0, 0.15);\n",
              "      filter: drop-shadow(0px 1px 2px rgba(0, 0, 0, 0.3));\n",
              "      fill: #FFFFFF;\n",
              "    }\n",
              "  </style>\n",
              "\n",
              "      <script>\n",
              "        const buttonEl =\n",
              "          document.querySelector('#df-0211d6fa-185d-4b38-a5d8-8c2a279e266a button.colab-df-convert');\n",
              "        buttonEl.style.display =\n",
              "          google.colab.kernel.accessAllowed ? 'block' : 'none';\n",
              "\n",
              "        async function convertToInteractive(key) {\n",
              "          const element = document.querySelector('#df-0211d6fa-185d-4b38-a5d8-8c2a279e266a');\n",
              "          const dataTable =\n",
              "            await google.colab.kernel.invokeFunction('convertToInteractive',\n",
              "                                                     [key], {});\n",
              "          if (!dataTable) return;\n",
              "\n",
              "          const docLinkHtml = 'Like what you see? Visit the ' +\n",
              "            '<a target=\"_blank\" href=https://colab.research.google.com/notebooks/data_table.ipynb>data table notebook</a>'\n",
              "            + ' to learn more about interactive tables.';\n",
              "          element.innerHTML = '';\n",
              "          dataTable['output_type'] = 'display_data';\n",
              "          await google.colab.output.renderOutput(dataTable, element);\n",
              "          const docLink = document.createElement('div');\n",
              "          docLink.innerHTML = docLinkHtml;\n",
              "          element.appendChild(docLink);\n",
              "        }\n",
              "      </script>\n",
              "    </div>\n",
              "  </div>\n"
            ]
          },
          "metadata": {},
          "execution_count": 7
        }
      ],
      "source": [
        "data.head()"
      ]
    },
    {
      "cell_type": "code",
      "execution_count": 8,
      "metadata": {
        "colab": {
          "base_uri": "https://localhost:8080/"
        },
        "id": "Gfjcke153yUJ",
        "outputId": "a75fd5ff-b077-4beb-d72a-17add776f4a7"
      },
      "outputs": [
        {
          "output_type": "execute_result",
          "data": {
            "text/plain": [
              "(1002, 6)"
            ]
          },
          "metadata": {},
          "execution_count": 8
        }
      ],
      "source": [
        "data.shape"
      ]
    },
    {
      "cell_type": "code",
      "execution_count": 9,
      "metadata": {
        "id": "PS4p3OwY13qD"
      },
      "outputs": [],
      "source": [
        "def text_preprocess(series, stemmer, stopwords):\n",
        "    df = series.str.replace(\"\\n\\t\",  \" \")\n",
        "    df = df.str.replace(r\"[^a-zA-Z ]+\", \"\")\n",
        "    df = df.str.lower()\n",
        "    df = df.apply(lambda x: ' '.join([stemmer.stem(item) for item in x.split() if item not in stopwords]))\n",
        "\n",
        "    return df"
      ]
    },
    {
      "cell_type": "code",
      "execution_count": 10,
      "metadata": {
        "id": "4WnQBJ4X1SnN"
      },
      "outputs": [],
      "source": [
        "stopwords = StopWordRemoverFactory().get_stop_words()\n",
        "stemmer = StemmerFactory().create_stemmer()"
      ]
    },
    {
      "cell_type": "code",
      "execution_count": 11,
      "metadata": {
        "id": "pl13WxJD9Ocv"
      },
      "outputs": [],
      "source": [
        "data = data[:500].copy() # reduce dataset for performance"
      ]
    },
    {
      "cell_type": "code",
      "execution_count": 12,
      "metadata": {
        "colab": {
          "base_uri": "https://localhost:8080/"
        },
        "id": "PakyL5kN1xov",
        "outputId": "46cc1e6c-22ff-4269-a2d1-f47fa2e15c2f"
      },
      "outputs": [
        {
          "output_type": "stream",
          "name": "stderr",
          "text": [
            "<ipython-input-9-28a80059554d>:3: FutureWarning: The default value of regex will change from True to False in a future version.\n",
            "  df = df.str.replace(r\"[^a-zA-Z ]+\", \"\")\n"
          ]
        }
      ],
      "source": [
        "data['processed_text'] = text_preprocess(data['full_text'], stemmer, stopwords)"
      ]
    },
    {
      "cell_type": "markdown",
      "metadata": {
        "id": "IZfx_AHh4DH9"
      },
      "source": [
        "# model"
      ]
    },
    {
      "cell_type": "markdown",
      "metadata": {
        "id": "lA4CcMPUB7mV"
      },
      "source": [
        "fastext"
      ]
    },
    {
      "cell_type": "code",
      "execution_count": 13,
      "metadata": {
        "id": "_beYDEuN4ZtV"
      },
      "outputs": [],
      "source": [
        "# write the content to a text file, for fasttext model\n",
        "with open('twitter.txt', 'w') as f:\n",
        "    f.write('\\n'.join(data['processed_text'].astype(str)))"
      ]
    },
    {
      "cell_type": "code",
      "execution_count": 14,
      "metadata": {
        "id": "epqKPRtX3sUb"
      },
      "outputs": [],
      "source": [
        "model = fasttext.train_unsupervised('twitter.txt', model='skipgram', dim=100)"
      ]
    },
    {
      "cell_type": "code",
      "execution_count": 15,
      "metadata": {
        "id": "raNF4pJ45X5o"
      },
      "outputs": [],
      "source": [
        "data['fasttext'] = data['processed_text'].apply(lambda x: model.get_sentence_vector(x))"
      ]
    },
    {
      "cell_type": "markdown",
      "metadata": {
        "id": "4Q856KSLB_Q9"
      },
      "source": [
        "word2vec"
      ]
    },
    {
      "cell_type": "code",
      "execution_count": 16,
      "metadata": {
        "id": "VAc9sj8IIGME"
      },
      "outputs": [],
      "source": [
        "import pandas as pd\n",
        "import numpy as np\n",
        "from gensim.models import Word2Vec\n",
        "\n",
        "# Define the Word2Vec vectorization function\n",
        "def vectorize_text(text, w2v_model):\n",
        "    words = text.split()\n",
        "    vectors = [w2v_model.wv[word] for word in words if word in w2v_model.wv]\n",
        "    if vectors:\n",
        "        return np.mean(vectors, axis=0)\n",
        "    else:\n",
        "        return np.zeros(w2v_model.vector_size)\n",
        "\n",
        "# Train a Word2Vec model on the preprocessed text\n",
        "sentences = [text.split() for text in data['processed_text']]\n",
        "w2v_model = Word2Vec(sentences, window=5, min_count=1, workers=4)\n",
        "\n",
        "# Vectorize the preprocessed text using the Word2Vec model\n",
        "data['word2vec'] = data['processed_text'].apply(lambda x: vectorize_text(x, w2v_model))"
      ]
    },
    {
      "cell_type": "markdown",
      "metadata": {
        "id": "xji-3e73e6qa"
      },
      "source": [
        "GloVe"
      ]
    },
    {
      "cell_type": "code",
      "execution_count": 17,
      "metadata": {
        "id": "QDJ_xXZbfBqT"
      },
      "outputs": [],
      "source": [
        "# Load the GloVe embeddings into memory\n",
        "glove_path = 'glove/glove.6B.100d.txt'\n",
        "glove_embeddings = {}\n",
        "with open(glove_path, 'r', encoding='utf8') as f:\n",
        "    for line in f:\n",
        "        values = line.split()\n",
        "        word = values[0]\n",
        "        coefs = np.asarray(values[1:], dtype='float32')\n",
        "        glove_embeddings[word] = coefs\n",
        "\n",
        "# Define the GloVe vectorization function\n",
        "def vectorize_text(text):\n",
        "    tokens = text.split()\n",
        "    vectors = []\n",
        "    for token in tokens:\n",
        "        if token in glove_embeddings:\n",
        "            vectors.append(glove_embeddings[token])\n",
        "    if len(vectors) > 0:\n",
        "        return np.mean(vectors, axis=0)\n",
        "    else:\n",
        "        return np.zeros(100)  # return a vector of zeros if no valid tokens are found\n",
        "\n",
        "# Vectorize the preprocessed text using GloVe\n",
        "data['glove'] = data['processed_text'].apply(vectorize_text)"
      ]
    },
    {
      "cell_type": "markdown",
      "metadata": {
        "id": "U76t1QCJWI_S"
      },
      "source": [
        "BERT"
      ]
    },
    {
      "cell_type": "code",
      "execution_count": 18,
      "metadata": {
        "colab": {
          "base_uri": "https://localhost:8080/",
          "height": 177,
          "referenced_widgets": [
            "82d1cb286eea4e8d9190313b629b6c97",
            "51488e663ed24515a915b279a86585ab",
            "f67814106dd5482590f5aff3ef1a0aae",
            "84b5ead81e074bc086d343ec4e154743",
            "349c0cd857b04f82894f9e5bfc60577a",
            "d1dd66783adc4ff69a6fdbefc8c89d2c",
            "ccd7f8ddb8794b64ad4a0774da9a656f",
            "6c300f740d764b718dad6bcc0d0455fb",
            "6ed40694a5a54852836cd3bfbddd948c",
            "ce45cf0914f5401ba5a7e8be54a21f84",
            "679f944fb8e8450a86701d5f6319ecc6",
            "9c0162e1cc47462b8906f8a7452f8a13",
            "014882d0c6764f4dba3298ef68d2a8ff",
            "ff7794cef98f438480ef087b55f248ef",
            "973dd65e870049e994b28c6e81547fd7",
            "cf5b4a93289e4a3284a2ecadd82490ef",
            "81080814584649d6ae3aca91a1b01d04",
            "63eb646d7bec4614b5ae4094075a313f",
            "0b06cd3500374a8ba2970487c94cc923",
            "33079a6e1a4d4eff9cc0562c0742e38a",
            "601bf1dacc264380b26d012b530e62e3",
            "42c99f571d7f443dab9173ee05326b41",
            "9d467e34ed2c4f04b5117e7031bc97c4",
            "a8e81f2948eb4987994bfaff1ca42b1d",
            "028567caedc543e7bad9c711c09236f3",
            "ef00cd91f0a74248af97848c3f1f6813",
            "284e012328b44d9a9cd3eea23ac09de0",
            "21d5fc3ebe094f3382d86ffe3688aa54",
            "6d9c8415c7454c7eaced84cb8d236578",
            "d77b6c8790804d62b73da236fa5fcb0c",
            "c0617a3190db4d58b0b95a875185d928",
            "5ac71ea8fc4d48928bc59a9481f38329",
            "55f5b2c47f114ef3b5a4fd2a6300755e",
            "57eec50f018045778143df73772492be",
            "d7d99e472c3542b29296b54fdcf3acce",
            "f68ecea065234acc8cea38faf8751ee2",
            "dd99ee432e1346b1ba10d5645245e66e",
            "af88330ba52245d8a2973d8db6f79f17",
            "bc955640c1b3494d90558429320aaf2f",
            "a78c835bc6ad492da64a1268e0f75cf3",
            "214b55a597dc4951810a5b93a6c819de",
            "2537a88c35464774b532c38c6d0a995d",
            "d9170d2cf006405dba2f27e9edf6504e",
            "3cc4993a6a9a4aac98717de2a9da35f4",
            "f11d509302214bf692ea13f2fc63c7cf",
            "a470bbe073924635bce3bfd4730012ad",
            "6fa4e1ffa088480785cc2e4d9be2719d",
            "f0cf7c31c22844e4a71aece44c233195",
            "fe624e578aa14e4ea66e03dfa45b2a53",
            "774c8f7c0d804723b081862336f9de20",
            "5a2230a5f5a04a888b9a8c23a6a9a980",
            "668c1774481f45959264e531ce8f02d8",
            "7d5ed16284a74842807fea2e0a975a7f",
            "984877653f5444a58c88aa1d651e7ffe",
            "3be0f8420c0b48169c708b06ddc67a95"
          ]
        },
        "id": "XfkjNZcaWKsc",
        "outputId": "74ba4b32-0bc6-4e6b-94c5-9b07108cff7b"
      },
      "outputs": [
        {
          "output_type": "display_data",
          "data": {
            "text/plain": [
              "Downloading (…)okenizer_config.json:   0%|          | 0.00/28.0 [00:00<?, ?B/s]"
            ],
            "application/vnd.jupyter.widget-view+json": {
              "version_major": 2,
              "version_minor": 0,
              "model_id": "82d1cb286eea4e8d9190313b629b6c97"
            }
          },
          "metadata": {}
        },
        {
          "output_type": "display_data",
          "data": {
            "text/plain": [
              "Downloading (…)lve/main/config.json:   0%|          | 0.00/570 [00:00<?, ?B/s]"
            ],
            "application/vnd.jupyter.widget-view+json": {
              "version_major": 2,
              "version_minor": 0,
              "model_id": "9c0162e1cc47462b8906f8a7452f8a13"
            }
          },
          "metadata": {}
        },
        {
          "output_type": "display_data",
          "data": {
            "text/plain": [
              "Downloading (…)solve/main/vocab.txt:   0%|          | 0.00/232k [00:00<?, ?B/s]"
            ],
            "application/vnd.jupyter.widget-view+json": {
              "version_major": 2,
              "version_minor": 0,
              "model_id": "9d467e34ed2c4f04b5117e7031bc97c4"
            }
          },
          "metadata": {}
        },
        {
          "output_type": "display_data",
          "data": {
            "text/plain": [
              "Downloading (…)/main/tokenizer.json:   0%|          | 0.00/466k [00:00<?, ?B/s]"
            ],
            "application/vnd.jupyter.widget-view+json": {
              "version_major": 2,
              "version_minor": 0,
              "model_id": "57eec50f018045778143df73772492be"
            }
          },
          "metadata": {}
        },
        {
          "output_type": "display_data",
          "data": {
            "text/plain": [
              "Downloading model.safetensors:   0%|          | 0.00/440M [00:00<?, ?B/s]"
            ],
            "application/vnd.jupyter.widget-view+json": {
              "version_major": 2,
              "version_minor": 0,
              "model_id": "f11d509302214bf692ea13f2fc63c7cf"
            }
          },
          "metadata": {}
        }
      ],
      "source": [
        "import torch\n",
        "from transformers import AutoTokenizer, AutoModel\n",
        "\n",
        "# Define the BERT vectorization function\n",
        "tokenizer = AutoTokenizer.from_pretrained('bert-base-uncased')\n",
        "model = AutoModel.from_pretrained('bert-base-uncased')\n",
        "\n",
        "def vectorize_text(text):\n",
        "    inputs = tokenizer(text, padding=True, truncation=True, max_length=128, return_tensors='pt')\n",
        "    with torch.no_grad():\n",
        "        outputs = model(**inputs)[0]\n",
        "    return outputs.mean(dim=1).squeeze().numpy()\n",
        "\n",
        "\n",
        "# Vectorize the preprocessed text using BERT\n",
        "data['bert'] = data['processed_text'].apply(vectorize_text)\n"
      ]
    },
    {
      "cell_type": "code",
      "execution_count": 19,
      "metadata": {
        "colab": {
          "base_uri": "https://localhost:8080/",
          "height": 548
        },
        "id": "74hmtjBB5YU0",
        "outputId": "3e929e0b-4e2b-4e31-fe84-d1431fa55d16"
      },
      "outputs": [
        {
          "output_type": "execute_result",
          "data": {
            "text/plain": [
              "                id_str           created_at           crawled_at  \\\n",
              "0  1113976371515146240  2019-04-05 08:27:18  2020-02-08 12:30:29   \n",
              "1  1114010329313206272  2019-04-05 10:42:14  2020-02-08 12:30:43   \n",
              "2  1114037478237855745  2019-04-05 12:30:07  2020-02-08 12:30:56   \n",
              "3  1114121169873932288  2019-04-05 18:02:40  2020-02-08 12:31:38   \n",
              "4  1114149728323682305  2019-04-05 19:56:09  2020-02-08 12:31:54   \n",
              "\n",
              "       screen_name  is_accident  \\\n",
              "0        mrahmatr7            1   \n",
              "1      PanritaNews            1   \n",
              "2          VICE_ID            0   \n",
              "3  OfficialSyariah            0   \n",
              "4     AhliAsuransi            0   \n",
              "\n",
              "                                           full_text  \\\n",
              "0  Rekaman CCTV Kecelakaan Motor di PIK, depan Ta...   \n",
              "1  Tewaskan 346 Orang dalam 2 Kecelakaan, Boss Bo...   \n",
              "2  Anggota parlemen Taiwan juga berencana meningk...   \n",
              "3  C.Gerakan.bicara pertolongan pertama pada kece...   \n",
              "4  Asuransi mana nih??\\n\\nhttps://t.co/AJyABmimcY...   \n",
              "\n",
              "                                      processed_text  \\\n",
              "0  rekam cctv celaka motor pik depan taman grisen...   \n",
              "1  tewas orang celaka boss boeing minta maaf http...   \n",
              "2  anggota parlemen taiwan rencana tingkat denda ...   \n",
              "3  cgerakanbicara tolong pertama celaka pkbakat h...   \n",
              "4  asuransi mana nihhttpstcoajyabmimcyppatk beri ...   \n",
              "\n",
              "                                            fasttext  \\\n",
              "0  [-0.013006344, 0.08466679, -0.057704847, -0.06...   \n",
              "1  [-0.027910735, 0.07607751, -0.049789697, -0.04...   \n",
              "2  [-0.019338382, 0.092050105, -0.06558499, -0.05...   \n",
              "3  [-0.030455967, 0.08570286, -0.08142066, -0.043...   \n",
              "4  [-0.017410709, 0.08686921, -0.07440367, -0.057...   \n",
              "\n",
              "                                            word2vec  \\\n",
              "0  [0.002368716, 0.00089951954, 0.0013855002, 0.0...   \n",
              "1  [-0.0017239314, 0.003566381, 0.0016135403, -0....   \n",
              "2  [-0.0024091587, 0.0006969254, 0.0009730155, 0....   \n",
              "3  [-0.0043439525, -2.413083e-05, 0.0017528838, 0...   \n",
              "4  [-0.0002699182, 0.00011225976, 0.0006368613, -...   \n",
              "\n",
              "                                               glove  \\\n",
              "0  [0.063926205, 0.0043275952, 0.2179518, 0.10591...   \n",
              "1  [0.36248598, -0.16214201, 0.096906, -0.0685519...   \n",
              "2  [-0.005034062, -0.27989158, -0.159691, 0.04854...   \n",
              "3  [0.36396, -0.39613, -0.28717, 0.45257, -0.6475...   \n",
              "4  [-0.05621981, -0.3753288, 0.12212621, -0.07811...   \n",
              "\n",
              "                                                bert  \n",
              "0  [0.054724503, 0.25336766, 0.49611, 0.12220571,...  \n",
              "1  [0.077111796, 0.44264176, -0.023823604, -0.026...  \n",
              "2  [-0.19983459, 0.090510204, -0.13769467, -0.060...  \n",
              "3  [-0.004425594, 0.26324335, 0.02596502, -0.1280...  \n",
              "4  [-0.18520285, 0.2537315, 0.10447164, 0.0654399...  "
            ],
            "text/html": [
              "\n",
              "\n",
              "  <div id=\"df-9121f428-6e1c-43ef-81aa-67589460cc98\">\n",
              "    <div class=\"colab-df-container\">\n",
              "      <div>\n",
              "<style scoped>\n",
              "    .dataframe tbody tr th:only-of-type {\n",
              "        vertical-align: middle;\n",
              "    }\n",
              "\n",
              "    .dataframe tbody tr th {\n",
              "        vertical-align: top;\n",
              "    }\n",
              "\n",
              "    .dataframe thead th {\n",
              "        text-align: right;\n",
              "    }\n",
              "</style>\n",
              "<table border=\"1\" class=\"dataframe\">\n",
              "  <thead>\n",
              "    <tr style=\"text-align: right;\">\n",
              "      <th></th>\n",
              "      <th>id_str</th>\n",
              "      <th>created_at</th>\n",
              "      <th>crawled_at</th>\n",
              "      <th>screen_name</th>\n",
              "      <th>is_accident</th>\n",
              "      <th>full_text</th>\n",
              "      <th>processed_text</th>\n",
              "      <th>fasttext</th>\n",
              "      <th>word2vec</th>\n",
              "      <th>glove</th>\n",
              "      <th>bert</th>\n",
              "    </tr>\n",
              "  </thead>\n",
              "  <tbody>\n",
              "    <tr>\n",
              "      <th>0</th>\n",
              "      <td>1113976371515146240</td>\n",
              "      <td>2019-04-05 08:27:18</td>\n",
              "      <td>2020-02-08 12:30:29</td>\n",
              "      <td>mrahmatr7</td>\n",
              "      <td>1</td>\n",
              "      <td>Rekaman CCTV Kecelakaan Motor di PIK, depan Ta...</td>\n",
              "      <td>rekam cctv celaka motor pik depan taman grisen...</td>\n",
              "      <td>[-0.013006344, 0.08466679, -0.057704847, -0.06...</td>\n",
              "      <td>[0.002368716, 0.00089951954, 0.0013855002, 0.0...</td>\n",
              "      <td>[0.063926205, 0.0043275952, 0.2179518, 0.10591...</td>\n",
              "      <td>[0.054724503, 0.25336766, 0.49611, 0.12220571,...</td>\n",
              "    </tr>\n",
              "    <tr>\n",
              "      <th>1</th>\n",
              "      <td>1114010329313206272</td>\n",
              "      <td>2019-04-05 10:42:14</td>\n",
              "      <td>2020-02-08 12:30:43</td>\n",
              "      <td>PanritaNews</td>\n",
              "      <td>1</td>\n",
              "      <td>Tewaskan 346 Orang dalam 2 Kecelakaan, Boss Bo...</td>\n",
              "      <td>tewas orang celaka boss boeing minta maaf http...</td>\n",
              "      <td>[-0.027910735, 0.07607751, -0.049789697, -0.04...</td>\n",
              "      <td>[-0.0017239314, 0.003566381, 0.0016135403, -0....</td>\n",
              "      <td>[0.36248598, -0.16214201, 0.096906, -0.0685519...</td>\n",
              "      <td>[0.077111796, 0.44264176, -0.023823604, -0.026...</td>\n",
              "    </tr>\n",
              "    <tr>\n",
              "      <th>2</th>\n",
              "      <td>1114037478237855745</td>\n",
              "      <td>2019-04-05 12:30:07</td>\n",
              "      <td>2020-02-08 12:30:56</td>\n",
              "      <td>VICE_ID</td>\n",
              "      <td>0</td>\n",
              "      <td>Anggota parlemen Taiwan juga berencana meningk...</td>\n",
              "      <td>anggota parlemen taiwan rencana tingkat denda ...</td>\n",
              "      <td>[-0.019338382, 0.092050105, -0.06558499, -0.05...</td>\n",
              "      <td>[-0.0024091587, 0.0006969254, 0.0009730155, 0....</td>\n",
              "      <td>[-0.005034062, -0.27989158, -0.159691, 0.04854...</td>\n",
              "      <td>[-0.19983459, 0.090510204, -0.13769467, -0.060...</td>\n",
              "    </tr>\n",
              "    <tr>\n",
              "      <th>3</th>\n",
              "      <td>1114121169873932288</td>\n",
              "      <td>2019-04-05 18:02:40</td>\n",
              "      <td>2020-02-08 12:31:38</td>\n",
              "      <td>OfficialSyariah</td>\n",
              "      <td>0</td>\n",
              "      <td>C.Gerakan.bicara pertolongan pertama pada kece...</td>\n",
              "      <td>cgerakanbicara tolong pertama celaka pkbakat h...</td>\n",
              "      <td>[-0.030455967, 0.08570286, -0.08142066, -0.043...</td>\n",
              "      <td>[-0.0043439525, -2.413083e-05, 0.0017528838, 0...</td>\n",
              "      <td>[0.36396, -0.39613, -0.28717, 0.45257, -0.6475...</td>\n",
              "      <td>[-0.004425594, 0.26324335, 0.02596502, -0.1280...</td>\n",
              "    </tr>\n",
              "    <tr>\n",
              "      <th>4</th>\n",
              "      <td>1114149728323682305</td>\n",
              "      <td>2019-04-05 19:56:09</td>\n",
              "      <td>2020-02-08 12:31:54</td>\n",
              "      <td>AhliAsuransi</td>\n",
              "      <td>0</td>\n",
              "      <td>Asuransi mana nih??\\n\\nhttps://t.co/AJyABmimcY...</td>\n",
              "      <td>asuransi mana nihhttpstcoajyabmimcyppatk beri ...</td>\n",
              "      <td>[-0.017410709, 0.08686921, -0.07440367, -0.057...</td>\n",
              "      <td>[-0.0002699182, 0.00011225976, 0.0006368613, -...</td>\n",
              "      <td>[-0.05621981, -0.3753288, 0.12212621, -0.07811...</td>\n",
              "      <td>[-0.18520285, 0.2537315, 0.10447164, 0.0654399...</td>\n",
              "    </tr>\n",
              "  </tbody>\n",
              "</table>\n",
              "</div>\n",
              "      <button class=\"colab-df-convert\" onclick=\"convertToInteractive('df-9121f428-6e1c-43ef-81aa-67589460cc98')\"\n",
              "              title=\"Convert this dataframe to an interactive table.\"\n",
              "              style=\"display:none;\">\n",
              "\n",
              "  <svg xmlns=\"http://www.w3.org/2000/svg\" height=\"24px\"viewBox=\"0 0 24 24\"\n",
              "       width=\"24px\">\n",
              "    <path d=\"M0 0h24v24H0V0z\" fill=\"none\"/>\n",
              "    <path d=\"M18.56 5.44l.94 2.06.94-2.06 2.06-.94-2.06-.94-.94-2.06-.94 2.06-2.06.94zm-11 1L8.5 8.5l.94-2.06 2.06-.94-2.06-.94L8.5 2.5l-.94 2.06-2.06.94zm10 10l.94 2.06.94-2.06 2.06-.94-2.06-.94-.94-2.06-.94 2.06-2.06.94z\"/><path d=\"M17.41 7.96l-1.37-1.37c-.4-.4-.92-.59-1.43-.59-.52 0-1.04.2-1.43.59L10.3 9.45l-7.72 7.72c-.78.78-.78 2.05 0 2.83L4 21.41c.39.39.9.59 1.41.59.51 0 1.02-.2 1.41-.59l7.78-7.78 2.81-2.81c.8-.78.8-2.07 0-2.86zM5.41 20L4 18.59l7.72-7.72 1.47 1.35L5.41 20z\"/>\n",
              "  </svg>\n",
              "      </button>\n",
              "\n",
              "\n",
              "\n",
              "    <div id=\"df-5a414656-7ed6-4a04-9ae4-c3601e853275\">\n",
              "      <button class=\"colab-df-quickchart\" onclick=\"quickchart('df-5a414656-7ed6-4a04-9ae4-c3601e853275')\"\n",
              "              title=\"Suggest charts.\"\n",
              "              style=\"display:none;\">\n",
              "\n",
              "<svg xmlns=\"http://www.w3.org/2000/svg\" height=\"24px\"viewBox=\"0 0 24 24\"\n",
              "     width=\"24px\">\n",
              "    <g>\n",
              "        <path d=\"M19 3H5c-1.1 0-2 .9-2 2v14c0 1.1.9 2 2 2h14c1.1 0 2-.9 2-2V5c0-1.1-.9-2-2-2zM9 17H7v-7h2v7zm4 0h-2V7h2v10zm4 0h-2v-4h2v4z\"/>\n",
              "    </g>\n",
              "</svg>\n",
              "      </button>\n",
              "    </div>\n",
              "\n",
              "<style>\n",
              "  .colab-df-quickchart {\n",
              "    background-color: #E8F0FE;\n",
              "    border: none;\n",
              "    border-radius: 50%;\n",
              "    cursor: pointer;\n",
              "    display: none;\n",
              "    fill: #1967D2;\n",
              "    height: 32px;\n",
              "    padding: 0 0 0 0;\n",
              "    width: 32px;\n",
              "  }\n",
              "\n",
              "  .colab-df-quickchart:hover {\n",
              "    background-color: #E2EBFA;\n",
              "    box-shadow: 0px 1px 2px rgba(60, 64, 67, 0.3), 0px 1px 3px 1px rgba(60, 64, 67, 0.15);\n",
              "    fill: #174EA6;\n",
              "  }\n",
              "\n",
              "  [theme=dark] .colab-df-quickchart {\n",
              "    background-color: #3B4455;\n",
              "    fill: #D2E3FC;\n",
              "  }\n",
              "\n",
              "  [theme=dark] .colab-df-quickchart:hover {\n",
              "    background-color: #434B5C;\n",
              "    box-shadow: 0px 1px 3px 1px rgba(0, 0, 0, 0.15);\n",
              "    filter: drop-shadow(0px 1px 2px rgba(0, 0, 0, 0.3));\n",
              "    fill: #FFFFFF;\n",
              "  }\n",
              "</style>\n",
              "\n",
              "    <script>\n",
              "      async function quickchart(key) {\n",
              "        const containerElement = document.querySelector('#' + key);\n",
              "        const charts = await google.colab.kernel.invokeFunction(\n",
              "            'suggestCharts', [key], {});\n",
              "      }\n",
              "    </script>\n",
              "\n",
              "      <script>\n",
              "\n",
              "function displayQuickchartButton(domScope) {\n",
              "  let quickchartButtonEl =\n",
              "    domScope.querySelector('#df-5a414656-7ed6-4a04-9ae4-c3601e853275 button.colab-df-quickchart');\n",
              "  quickchartButtonEl.style.display =\n",
              "    google.colab.kernel.accessAllowed ? 'block' : 'none';\n",
              "}\n",
              "\n",
              "        displayQuickchartButton(document);\n",
              "      </script>\n",
              "      <style>\n",
              "    .colab-df-container {\n",
              "      display:flex;\n",
              "      flex-wrap:wrap;\n",
              "      gap: 12px;\n",
              "    }\n",
              "\n",
              "    .colab-df-convert {\n",
              "      background-color: #E8F0FE;\n",
              "      border: none;\n",
              "      border-radius: 50%;\n",
              "      cursor: pointer;\n",
              "      display: none;\n",
              "      fill: #1967D2;\n",
              "      height: 32px;\n",
              "      padding: 0 0 0 0;\n",
              "      width: 32px;\n",
              "    }\n",
              "\n",
              "    .colab-df-convert:hover {\n",
              "      background-color: #E2EBFA;\n",
              "      box-shadow: 0px 1px 2px rgba(60, 64, 67, 0.3), 0px 1px 3px 1px rgba(60, 64, 67, 0.15);\n",
              "      fill: #174EA6;\n",
              "    }\n",
              "\n",
              "    [theme=dark] .colab-df-convert {\n",
              "      background-color: #3B4455;\n",
              "      fill: #D2E3FC;\n",
              "    }\n",
              "\n",
              "    [theme=dark] .colab-df-convert:hover {\n",
              "      background-color: #434B5C;\n",
              "      box-shadow: 0px 1px 3px 1px rgba(0, 0, 0, 0.15);\n",
              "      filter: drop-shadow(0px 1px 2px rgba(0, 0, 0, 0.3));\n",
              "      fill: #FFFFFF;\n",
              "    }\n",
              "  </style>\n",
              "\n",
              "      <script>\n",
              "        const buttonEl =\n",
              "          document.querySelector('#df-9121f428-6e1c-43ef-81aa-67589460cc98 button.colab-df-convert');\n",
              "        buttonEl.style.display =\n",
              "          google.colab.kernel.accessAllowed ? 'block' : 'none';\n",
              "\n",
              "        async function convertToInteractive(key) {\n",
              "          const element = document.querySelector('#df-9121f428-6e1c-43ef-81aa-67589460cc98');\n",
              "          const dataTable =\n",
              "            await google.colab.kernel.invokeFunction('convertToInteractive',\n",
              "                                                     [key], {});\n",
              "          if (!dataTable) return;\n",
              "\n",
              "          const docLinkHtml = 'Like what you see? Visit the ' +\n",
              "            '<a target=\"_blank\" href=https://colab.research.google.com/notebooks/data_table.ipynb>data table notebook</a>'\n",
              "            + ' to learn more about interactive tables.';\n",
              "          element.innerHTML = '';\n",
              "          dataTable['output_type'] = 'display_data';\n",
              "          await google.colab.output.renderOutput(dataTable, element);\n",
              "          const docLink = document.createElement('div');\n",
              "          docLink.innerHTML = docLinkHtml;\n",
              "          element.appendChild(docLink);\n",
              "        }\n",
              "      </script>\n",
              "    </div>\n",
              "  </div>\n"
            ]
          },
          "metadata": {},
          "execution_count": 19
        }
      ],
      "source": [
        "data.head()\n",
        "# data = data.drop('word2vec1', axis=1)"
      ]
    },
    {
      "cell_type": "code",
      "execution_count": 20,
      "metadata": {
        "colab": {
          "base_uri": "https://localhost:8080/"
        },
        "id": "TBzwp4X37UYb",
        "outputId": "d2405ba3-acf3-48ae-9df4-1f493bfadda5"
      },
      "outputs": [
        {
          "output_type": "execute_result",
          "data": {
            "text/plain": [
              "(500, 11)"
            ]
          },
          "metadata": {},
          "execution_count": 20
        }
      ],
      "source": [
        "data.shape"
      ]
    },
    {
      "cell_type": "code",
      "execution_count": 21,
      "metadata": {
        "id": "ScoEPqkJRFkU"
      },
      "outputs": [],
      "source": [
        "models = (data['fasttext'], data['word2vec'], data['glove'], data['bert'])"
      ]
    },
    {
      "cell_type": "markdown",
      "metadata": {
        "id": "jQO2q9jh5rVn"
      },
      "source": [
        "# classify\n"
      ]
    },
    {
      "cell_type": "code",
      "execution_count": 22,
      "metadata": {
        "colab": {
          "base_uri": "https://localhost:8080/"
        },
        "id": "9NXso_5DBg9J",
        "outputId": "28f8f5e8-4829-4655-cc97-3c5b037fbfd8"
      },
      "outputs": [
        {
          "output_type": "execute_result",
          "data": {
            "text/plain": [
              "0      1\n",
              "1      1\n",
              "2      0\n",
              "3      0\n",
              "4      0\n",
              "      ..\n",
              "495    0\n",
              "496    0\n",
              "497    1\n",
              "498    1\n",
              "499    0\n",
              "Name: is_accident, Length: 500, dtype: int64"
            ]
          },
          "metadata": {},
          "execution_count": 22
        }
      ],
      "source": [
        "data['is_accident']"
      ]
    },
    {
      "cell_type": "code",
      "execution_count": 23,
      "metadata": {
        "id": "3DryUsPHRoYI"
      },
      "outputs": [],
      "source": [
        "from sklearn.model_selection import train_test_split\n",
        "from sklearn.neighbors import KNeighborsClassifier\n",
        "from sklearn.ensemble import BaggingClassifier\n",
        "from sklearn.neural_network import MLPClassifier\n",
        "from sklearn.ensemble import RandomForestClassifier, VotingClassifier"
      ]
    },
    {
      "cell_type": "code",
      "execution_count": 24,
      "metadata": {
        "id": "D2NdGCTPDwJ9"
      },
      "outputs": [],
      "source": [
        "# wlaczane dla MLP bo warningi przeszkadzaja w obserwacji wynikow - potem raczej wylaczyc\n",
        "from warnings import filterwarnings\n",
        "filterwarnings('ignore')\n",
        "# filterwarnings('default')"
      ]
    },
    {
      "cell_type": "code",
      "execution_count": 25,
      "metadata": {
        "id": "KS96KCYiBLtX"
      },
      "outputs": [],
      "source": [
        "def classifier(kind):\n",
        "  if kind == 'RF':\n",
        "    clf = RandomForestClassifier(n_estimators=50, random_state=1)\n",
        "\n",
        "  if kind == 'KNN':\n",
        "    clf = KNeighborsClassifier(n_neighbors=5)\n",
        "\n",
        "  if kind == 'MLP':\n",
        "    clf = MLPClassifier()\n",
        "\n",
        "  return clf\n",
        "\n",
        "def ensemble (ens_kind, clf_kind, n):\n",
        "  if ens_kind == 'bagging':\n",
        "    clf = classifier(clf_kind)\n",
        "    ensembleClf = BaggingClassifier(clf, max_samples=0.7, n_estimators=n, max_features=0.7, random_state=42)    #        MLPClassifier(), KNeighborsClassifier(), None = drzewo decyzyjne\n",
        "  if ens_kind == 'voting':\n",
        "    clf1 = classifier(\"RF\")\n",
        "    clf2 = classifier(\"MLP\")\n",
        "    clf3 = classifier(\"KNN\")\n",
        "    if ('RF' and 'MLP') in clf_kind:\n",
        "      ensembleClf = VotingClassifier(estimators=[(str(clf1), clf1), (str(clf2), clf2)], voting=n)\n",
        "    elif ('RF' and 'KNN') in clf_kind:\n",
        "      ensembleClf = VotingClassifier(estimators=[(str(clf1), clf1), (str(clf3), clf3)], voting=n)\n",
        "    elif ('MLP' and 'KNN') in clf_kind:\n",
        "      ensembleClf = VotingClassifier(estimators=[(str(clf2), clf2), (str(clf3), clf3)], voting=n)\n",
        "    else:\n",
        "      ensembleClf = VotingClassifier(estimators=[(str(clf1), clf1), (str(clf2), clf2), (str(clf3), clf3)], voting=n)\n",
        "\n",
        "  return ensembleClf\n",
        "\n"
      ]
    },
    {
      "cell_type": "code",
      "execution_count": 26,
      "metadata": {
        "id": "NcSsAULStQ8u"
      },
      "outputs": [],
      "source": [
        "# WYGODNE DO PYTAŃ 2 I 3\n",
        "def klasyfikatory(ktory):\n",
        "\n",
        "  kinds = ['RF', 'MLP', 'KNN']\n",
        "\n",
        "  if ktory == 'w':\n",
        "    wszystko = ['single_classifiers', 'bagging', 'voting']\n",
        "    for i in wszystko:\n",
        "      klasyfikatory(i)\n",
        "\n",
        "  if ktory == 'single_classifiers':\n",
        "    for k in kinds:\n",
        "      clf = classifier(k)\n",
        "      clf.fit(list(X_train), list(y_train))\n",
        "      y_pred = clf.predict(list(X_test))\n",
        "      ocena = evaluation(y_test, y_pred, sposob_ewaluacji)\n",
        "      print(f\"Single classifier: {k}, evaluation: {ocena}\\n\\n\")\n",
        "\n",
        "  if ktory == 'bagging':\n",
        "    for k in kinds:\n",
        "      ensembleClf = ensemble('bagging', k, 10)\n",
        "      ensembleClf.fit(list(X_train), list(y_train))\n",
        "      y_pred = ensembleClf.predict(list(X_test))\n",
        "      ocena = evaluation(y_test, y_pred, sposob_ewaluacji)\n",
        "      print(f\"bagging of {k}, evaluation: {ocena}\\n\\n\")\n",
        "\n",
        "  if ktory == 'voting':\n",
        "    voting_type = ['soft', 'hard']\n",
        "    for v in voting_type:\n",
        "      ensembleClf = ensemble('voting', kinds, v)\n",
        "      ensembleClf.fit(list(X_train), list(y_train))\n",
        "      y_pred = ensembleClf.predict(list(X_test))\n",
        "      ocena = evaluation(y_test, y_pred, sposob_ewaluacji)\n",
        "      print(f\"{v} voting of {kinds}, evaluation: {ocena}\\n\\n\")"
      ]
    },
    {
      "cell_type": "markdown",
      "metadata": {
        "id": "6I5w-eN9wVrK"
      },
      "source": [
        "EWALUACJA"
      ]
    },
    {
      "cell_type": "code",
      "execution_count": 27,
      "metadata": {
        "id": "ppVIUOYh50xN"
      },
      "outputs": [],
      "source": [
        "from sklearn.metrics import accuracy_score\n",
        "from sklearn.metrics import confusion_matrix\n",
        "from sklearn.metrics import recall_score\n",
        "from sklearn.metrics import precision_score\n",
        "from sklearn.metrics import RocCurveDisplay"
      ]
    },
    {
      "cell_type": "code",
      "execution_count": 28,
      "metadata": {
        "id": "unBwZlkCvuuZ"
      },
      "outputs": [],
      "source": [
        "def evaluation(test, pred, sposob):\n",
        "  if sposob == 'w':\n",
        "    # brzydko się wykonuje dla wszystkich bo podpis co to wgl jest wypisuje sie jako ostatni i nwm jak to zmienić, ale poza tym to działa\n",
        "    wszystko = ['acc', 'cnf', 'rs', 'ps', 'roc']\n",
        "    for i in wszystko:\n",
        "      print(evaluation(test, pred, i))\n",
        "  else:\n",
        "    if sposob == 'acc':\n",
        "      acc = accuracy_score(test, pred)\n",
        "      return (f\"Accuracy = {acc}\")\n",
        "    if sposob == 'cnf':\n",
        "      cnf = confusion_matrix(test, pred)\n",
        "      return (f\"Confusion matrix:\\n {cnf}\")\n",
        "    if sposob == 'rs':\n",
        "      rs= recall_score(test, pred)\n",
        "      return (f\"Recall score = {rs}\")\n",
        "    if sposob == 'ps':\n",
        "      ps = precision_score(test, pred)\n",
        "      return (f\"Precision score = {ps}\")\n",
        "    if sposob == 'roc':\n",
        "      # dla tego trochę lepiej ale też brzydko\n",
        "      RocCurveDisplay.from_predictions(\n",
        "        test, pred)\n",
        "      plt.show()\n",
        "      return 'ROC curve & AUC\\n'"
      ]
    },
    {
      "cell_type": "markdown",
      "metadata": {
        "id": "_NKXcDVlOXrN"
      },
      "source": [
        "**Question 1**"
      ]
    },
    {
      "cell_type": "markdown",
      "metadata": {
        "id": "bPNuQeP43kUQ"
      },
      "source": [
        "Do additional ensamble classifiers increase performance compared to a single classifier?\n",
        "\n",
        "Solution characteristics:\n",
        "1. Different combinations of classifiers:\n",
        "* single: RF, KNN, MLP\n",
        "* ensemble bagging (different amounts of estimators per each classifier type separately)\n",
        "* ensemble voting (all classifier types together and 3 different pairs; hard and soft voting)\n",
        "2. FastText as vectorization model (might be changed)\n",
        "3. Accuracy as evaluation method (might be changed)"
      ]
    },
    {
      "cell_type": "code",
      "execution_count": 29,
      "metadata": {
        "id": "fuFz_sEZRLAj"
      },
      "outputs": [],
      "source": [
        "vectorization_type = models[0]\n",
        "sposob_ewaluacji= 'acc'"
      ]
    },
    {
      "cell_type": "code",
      "execution_count": 30,
      "metadata": {
        "id": "gZR4P9qMQyGb"
      },
      "outputs": [],
      "source": [
        "X_train, X_test, y_train, y_test = train_test_split(vectorization_type, data['is_accident'], test_size=0.2, random_state=42)"
      ]
    },
    {
      "cell_type": "code",
      "execution_count": 31,
      "metadata": {
        "colab": {
          "base_uri": "https://localhost:8080/"
        },
        "id": "3MhEUX2AtvO-",
        "outputId": "8377c0d0-1d5b-45e3-915d-b2cf69d72a24"
      },
      "outputs": [
        {
          "output_type": "stream",
          "name": "stdout",
          "text": [
            "Single classifier: RF, evaluation: Accuracy = 0.62\n",
            "\n",
            "\n",
            "Single classifier: MLP, evaluation: Accuracy = 0.58\n",
            "\n",
            "\n",
            "Single classifier: KNN, evaluation: Accuracy = 0.73\n",
            "\n",
            "\n"
          ]
        }
      ],
      "source": [
        "# single classifiers\n",
        "kinds = ['RF', 'MLP', 'KNN']\n",
        "for k in kinds:\n",
        "  clf = classifier(k)\n",
        "  clf.fit(list(X_train), list(y_train))\n",
        "  y_pred = clf.predict(list(X_test))\n",
        "  ocena = evaluation(y_test, y_pred, sposob_ewaluacji)\n",
        "  print(f\"Single classifier: {k}, evaluation: {ocena}\\n\\n\")"
      ]
    },
    {
      "cell_type": "code",
      "execution_count": 32,
      "metadata": {
        "colab": {
          "base_uri": "https://localhost:8080/"
        },
        "id": "68a0tRVdAPe2",
        "outputId": "ebfdc05c-e485-4353-f9c5-6d6a92e29b12"
      },
      "outputs": [
        {
          "output_type": "stream",
          "name": "stdout",
          "text": [
            "bagging of RF, n_estimators = 5, evaluation: Accuracy = 0.64\n",
            "bagging of RF, n_estimators = 100, evaluation: Accuracy = 0.63\n",
            "bagging of RF, n_estimators = 200, evaluation: Accuracy = 0.64\n",
            "bagging of MLP, n_estimators = 5, evaluation: Accuracy = 0.58\n",
            "bagging of MLP, n_estimators = 100, evaluation: Accuracy = 0.59\n",
            "bagging of MLP, n_estimators = 200, evaluation: Accuracy = 0.59\n",
            "bagging of KNN, n_estimators = 5, evaluation: Accuracy = 0.59\n",
            "bagging of KNN, n_estimators = 100, evaluation: Accuracy = 0.65\n",
            "bagging of KNN, n_estimators = 200, evaluation: Accuracy = 0.7\n"
          ]
        }
      ],
      "source": [
        "# bagging\n",
        "# n_est_list = [1, 5, 10, 20, 50, 80, 100, 150, 200, 250, 300, 350]\n",
        "n_est_list = [5, 100, 200]\n",
        "for k in kinds:\n",
        "  for i in n_est_list:\n",
        "    ensembleClf = ensemble('bagging', k, i)\n",
        "    ensembleClf.fit(list(X_train), list(y_train))\n",
        "    y_pred = ensembleClf.predict(list(X_test))\n",
        "    ocena = evaluation(y_test, y_pred, sposob_ewaluacji)\n",
        "    print(f\"bagging of {k}, n_estimators = {i}, evaluation: {ocena}\")"
      ]
    },
    {
      "cell_type": "code",
      "execution_count": 33,
      "metadata": {
        "colab": {
          "base_uri": "https://localhost:8080/"
        },
        "id": "tOl1aAvvLU4s",
        "outputId": "5a8e2da8-f072-4f8d-bd10-9be411104f2d"
      },
      "outputs": [
        {
          "output_type": "stream",
          "name": "stdout",
          "text": [
            "soft voting of ['RF', 'KNN', 'MLP'], evaluation: Accuracy = 0.64\n",
            "hard voting of ['RF', 'KNN', 'MLP'], evaluation: Accuracy = 0.58\n",
            "soft voting of ['RF', 'KNN'], evaluation: Accuracy = 0.71\n",
            "hard voting of ['RF', 'KNN'], evaluation: Accuracy = 0.66\n",
            "soft voting of ['RF', 'MLP'], evaluation: Accuracy = 0.63\n",
            "hard voting of ['RF', 'MLP'], evaluation: Accuracy = 0.56\n",
            "soft voting of ['KNN', 'MLP'], evaluation: Accuracy = 0.61\n",
            "hard voting of ['KNN', 'MLP'], evaluation: Accuracy = 0.58\n"
          ]
        }
      ],
      "source": [
        "# voting\n",
        "clf_combinations = [['RF', 'KNN', 'MLP'], ['RF', 'KNN'], ['RF', 'MLP'], ['KNN', 'MLP']]\n",
        "voting_type = ['soft', 'hard']\n",
        "for c in clf_combinations:\n",
        "  for v in voting_type:\n",
        "    ensembleClf = ensemble('voting', c, v)\n",
        "    ensembleClf.fit(list(X_train), list(y_train))\n",
        "    y_pred = ensembleClf.predict(list(X_test))\n",
        "    ocena = evaluation(y_test, y_pred, sposob_ewaluacji)\n",
        "    print(f\"{v} voting of {c}, evaluation: {ocena}\")"
      ]
    },
    {
      "cell_type": "markdown",
      "metadata": {
        "id": "JnObmCk23DR8"
      },
      "source": [
        "**Question 2**"
      ]
    },
    {
      "cell_type": "markdown",
      "metadata": {
        "id": "5_B3LYqp3kUc"
      },
      "source": [
        "Does PCA feature reduction improve the performance of classifiers?\n",
        "\n",
        "Solution characteristics\n",
        "1. Classification with and without PCA\n",
        "2. Both clasifications compared for single and ensemble classifiers:\n",
        "* single: RF, KNN, MLP\n",
        "* ensemble bagging (1 combination - 10 estimators per each classifier type separately)\n",
        "* ensemble voting (1 combination - all classifier types together; hard and soft voting)\n",
        "3. FastText as vectorization model (might be changed)\n",
        "4. Accuracy as evaluation method (might be changed)"
      ]
    },
    {
      "cell_type": "code",
      "execution_count": 34,
      "metadata": {
        "id": "hTzBp6AD2DHo"
      },
      "outputs": [],
      "source": [
        "vectorization_type = models[0]\n",
        "sposob_ewaluacji= 'acc'\n",
        "jakie_klasyfikatory_do_porownania = 'w'"
      ]
    },
    {
      "cell_type": "code",
      "execution_count": 35,
      "metadata": {
        "colab": {
          "base_uri": "https://localhost:8080/"
        },
        "id": "0ccU14Syr-5v",
        "outputId": "6f52eab8-22ba-4c40-cdea-445622fd4c7d"
      },
      "outputs": [
        {
          "output_type": "stream",
          "name": "stdout",
          "text": [
            "No PCA:\n",
            "Single classifier: RF, evaluation: Accuracy = 0.65\n",
            "\n",
            "\n",
            "Single classifier: MLP, evaluation: Accuracy = 0.6\n",
            "\n",
            "\n",
            "Single classifier: KNN, evaluation: Accuracy = 0.71\n",
            "\n",
            "\n",
            "bagging of RF, evaluation: Accuracy = 0.65\n",
            "\n",
            "\n",
            "bagging of MLP, evaluation: Accuracy = 0.61\n",
            "\n",
            "\n",
            "bagging of KNN, evaluation: Accuracy = 0.65\n",
            "\n",
            "\n",
            "soft voting of ['RF', 'MLP', 'KNN'], evaluation: Accuracy = 0.59\n",
            "\n",
            "\n",
            "hard voting of ['RF', 'MLP', 'KNN'], evaluation: Accuracy = 0.63\n",
            "\n",
            "\n",
            "\n",
            "PCA:\n",
            "Single classifier: RF, evaluation: Accuracy = 0.69\n",
            "\n",
            "\n",
            "Single classifier: MLP, evaluation: Accuracy = 0.6\n",
            "\n",
            "\n",
            "Single classifier: KNN, evaluation: Accuracy = 0.66\n",
            "\n",
            "\n",
            "bagging of RF, evaluation: Accuracy = 0.71\n",
            "\n",
            "\n",
            "bagging of MLP, evaluation: Accuracy = 0.58\n",
            "\n",
            "\n",
            "bagging of KNN, evaluation: Accuracy = 0.67\n",
            "\n",
            "\n",
            "soft voting of ['RF', 'MLP', 'KNN'], evaluation: Accuracy = 0.64\n",
            "\n",
            "\n",
            "hard voting of ['RF', 'MLP', 'KNN'], evaluation: Accuracy = 0.62\n",
            "\n",
            "\n"
          ]
        }
      ],
      "source": [
        "X = vectorization_type\n",
        "\n",
        "print(\"No PCA:\")\n",
        "X_train, X_test, y_train, y_test = train_test_split(X, data['is_accident'], test_size=0.2, random_state=43)\n",
        "klasyfikatory(jakie_klasyfikatory_do_porownania)\n",
        "\n",
        "print(\"\\nPCA:\")\n",
        "pca_input = X.tolist()   # wejscie do PCA to array wiec jesli X to nie array, to zrob array/liste\n",
        "pca = PCA(n_components=50)\n",
        "\n",
        "pca_embeddings  = pca.fit_transform(X.tolist())\n",
        "\n",
        "X_train, X_test, y_train, y_test = train_test_split(pca_embeddings, data['is_accident'], test_size=0.2, random_state=42)\n",
        "klasyfikatory(jakie_klasyfikatory_do_porownania)\n"
      ]
    },
    {
      "cell_type": "markdown",
      "metadata": {
        "id": "dzTTPPFVQ6aI"
      },
      "source": [
        "**Question 3**"
      ]
    },
    {
      "cell_type": "markdown",
      "metadata": {
        "id": "Eq83RMyz3kUd"
      },
      "source": [
        "How does FastText do comparing to other vectorization models?\n",
        "\n",
        "Solution characteristics\n",
        "1. 4 different models for text vectorization:\n",
        "* FastText\n",
        "* Word2Vec\n",
        "* GLOVE\n",
        "* BERT\n",
        "2. Comparison of single and ensemble classifiers:\n",
        "* single: RF, KNN, MLP\n",
        "* ensemble bagging (1 combination - 10 estimators per each classifier type separately)\n",
        "* ensemble voting (1 combination - all classifier types together; hard and soft voting)\n",
        "3. Accuracy as evaluation method (might be changed)"
      ]
    },
    {
      "cell_type": "code",
      "execution_count": 36,
      "metadata": {
        "id": "lql8xVs022dO"
      },
      "outputs": [],
      "source": [
        "sposob_ewaluacji = 'acc'\n",
        "jakie_klasyfikatory_do_porownania = 'w'"
      ]
    },
    {
      "cell_type": "code",
      "execution_count": 37,
      "metadata": {
        "colab": {
          "base_uri": "https://localhost:8080/"
        },
        "id": "ILF2_RNojWDL",
        "outputId": "503dee08-0d31-4062-df82-3014c2f22b7f"
      },
      "outputs": [
        {
          "output_type": "stream",
          "name": "stdout",
          "text": [
            "\n",
            "Vectorization model: fasttext\n",
            "Single classifier: RF, evaluation: Accuracy = 0.62\n",
            "\n",
            "\n",
            "Single classifier: MLP, evaluation: Accuracy = 0.58\n",
            "\n",
            "\n",
            "Single classifier: KNN, evaluation: Accuracy = 0.73\n",
            "\n",
            "\n",
            "bagging of RF, evaluation: Accuracy = 0.64\n",
            "\n",
            "\n",
            "bagging of MLP, evaluation: Accuracy = 0.58\n",
            "\n",
            "\n",
            "bagging of KNN, evaluation: Accuracy = 0.68\n",
            "\n",
            "\n",
            "soft voting of ['RF', 'MLP', 'KNN'], evaluation: Accuracy = 0.63\n",
            "\n",
            "\n",
            "hard voting of ['RF', 'MLP', 'KNN'], evaluation: Accuracy = 0.58\n",
            "\n",
            "\n",
            "\n",
            "Vectorization model: word2vec\n",
            "Single classifier: RF, evaluation: Accuracy = 0.76\n",
            "\n",
            "\n",
            "Single classifier: MLP, evaluation: Accuracy = 0.57\n",
            "\n",
            "\n",
            "Single classifier: KNN, evaluation: Accuracy = 0.74\n",
            "\n",
            "\n",
            "bagging of RF, evaluation: Accuracy = 0.72\n",
            "\n",
            "\n",
            "bagging of MLP, evaluation: Accuracy = 0.58\n",
            "\n",
            "\n",
            "bagging of KNN, evaluation: Accuracy = 0.72\n",
            "\n",
            "\n",
            "soft voting of ['RF', 'MLP', 'KNN'], evaluation: Accuracy = 0.73\n",
            "\n",
            "\n",
            "hard voting of ['RF', 'MLP', 'KNN'], evaluation: Accuracy = 0.59\n",
            "\n",
            "\n",
            "\n",
            "Vectorization model: glove\n",
            "Single classifier: RF, evaluation: Accuracy = 0.75\n",
            "\n",
            "\n",
            "Single classifier: MLP, evaluation: Accuracy = 0.83\n",
            "\n",
            "\n",
            "Single classifier: KNN, evaluation: Accuracy = 0.79\n",
            "\n",
            "\n",
            "bagging of RF, evaluation: Accuracy = 0.71\n",
            "\n",
            "\n",
            "bagging of MLP, evaluation: Accuracy = 0.84\n",
            "\n",
            "\n",
            "bagging of KNN, evaluation: Accuracy = 0.82\n",
            "\n",
            "\n",
            "soft voting of ['RF', 'MLP', 'KNN'], evaluation: Accuracy = 0.83\n",
            "\n",
            "\n",
            "hard voting of ['RF', 'MLP', 'KNN'], evaluation: Accuracy = 0.79\n",
            "\n",
            "\n",
            "\n",
            "Vectorization model: bert\n",
            "Single classifier: RF, evaluation: Accuracy = 0.75\n",
            "\n",
            "\n",
            "Single classifier: MLP, evaluation: Accuracy = 0.77\n",
            "\n",
            "\n",
            "Single classifier: KNN, evaluation: Accuracy = 0.68\n",
            "\n",
            "\n",
            "bagging of RF, evaluation: Accuracy = 0.75\n",
            "\n",
            "\n",
            "bagging of MLP, evaluation: Accuracy = 0.78\n",
            "\n",
            "\n",
            "bagging of KNN, evaluation: Accuracy = 0.67\n",
            "\n",
            "\n",
            "soft voting of ['RF', 'MLP', 'KNN'], evaluation: Accuracy = 0.76\n",
            "\n",
            "\n",
            "hard voting of ['RF', 'MLP', 'KNN'], evaluation: Accuracy = 0.74\n",
            "\n",
            "\n"
          ]
        }
      ],
      "source": [
        "for j in models:\n",
        "  vectorization_type = j\n",
        "  print(f\"\\nVectorization model: {j.name}\")\n",
        "  X_train, X_test, y_train, y_test = train_test_split(vectorization_type, data['is_accident'], test_size=0.2, random_state=42)\n",
        "\n",
        "  klasyfikatory(jakie_klasyfikatory_do_porownania)"
      ]
    }
  ],
  "metadata": {
    "accelerator": "GPU",
    "colab": {
      "gpuType": "T4",
      "provenance": []
    },
    "gpuClass": "standard",
    "kernelspec": {
      "display_name": "Python 3",
      "name": "python3"
    },
    "language_info": {
      "codemirror_mode": {
        "name": "ipython",
        "version": 3
      },
      "file_extension": ".py",
      "mimetype": "text/x-python",
      "name": "python",
      "nbconvert_exporter": "python",
      "pygments_lexer": "ipython3",
      "version": "3.8.9"
    },
    "widgets": {
      "application/vnd.jupyter.widget-state+json": {
        "82d1cb286eea4e8d9190313b629b6c97": {
          "model_module": "@jupyter-widgets/controls",
          "model_name": "HBoxModel",
          "model_module_version": "1.5.0",
          "state": {
            "_dom_classes": [],
            "_model_module": "@jupyter-widgets/controls",
            "_model_module_version": "1.5.0",
            "_model_name": "HBoxModel",
            "_view_count": null,
            "_view_module": "@jupyter-widgets/controls",
            "_view_module_version": "1.5.0",
            "_view_name": "HBoxView",
            "box_style": "",
            "children": [
              "IPY_MODEL_51488e663ed24515a915b279a86585ab",
              "IPY_MODEL_f67814106dd5482590f5aff3ef1a0aae",
              "IPY_MODEL_84b5ead81e074bc086d343ec4e154743"
            ],
            "layout": "IPY_MODEL_349c0cd857b04f82894f9e5bfc60577a"
          }
        },
        "51488e663ed24515a915b279a86585ab": {
          "model_module": "@jupyter-widgets/controls",
          "model_name": "HTMLModel",
          "model_module_version": "1.5.0",
          "state": {
            "_dom_classes": [],
            "_model_module": "@jupyter-widgets/controls",
            "_model_module_version": "1.5.0",
            "_model_name": "HTMLModel",
            "_view_count": null,
            "_view_module": "@jupyter-widgets/controls",
            "_view_module_version": "1.5.0",
            "_view_name": "HTMLView",
            "description": "",
            "description_tooltip": null,
            "layout": "IPY_MODEL_d1dd66783adc4ff69a6fdbefc8c89d2c",
            "placeholder": "​",
            "style": "IPY_MODEL_ccd7f8ddb8794b64ad4a0774da9a656f",
            "value": "Downloading (…)okenizer_config.json: 100%"
          }
        },
        "f67814106dd5482590f5aff3ef1a0aae": {
          "model_module": "@jupyter-widgets/controls",
          "model_name": "FloatProgressModel",
          "model_module_version": "1.5.0",
          "state": {
            "_dom_classes": [],
            "_model_module": "@jupyter-widgets/controls",
            "_model_module_version": "1.5.0",
            "_model_name": "FloatProgressModel",
            "_view_count": null,
            "_view_module": "@jupyter-widgets/controls",
            "_view_module_version": "1.5.0",
            "_view_name": "ProgressView",
            "bar_style": "success",
            "description": "",
            "description_tooltip": null,
            "layout": "IPY_MODEL_6c300f740d764b718dad6bcc0d0455fb",
            "max": 28,
            "min": 0,
            "orientation": "horizontal",
            "style": "IPY_MODEL_6ed40694a5a54852836cd3bfbddd948c",
            "value": 28
          }
        },
        "84b5ead81e074bc086d343ec4e154743": {
          "model_module": "@jupyter-widgets/controls",
          "model_name": "HTMLModel",
          "model_module_version": "1.5.0",
          "state": {
            "_dom_classes": [],
            "_model_module": "@jupyter-widgets/controls",
            "_model_module_version": "1.5.0",
            "_model_name": "HTMLModel",
            "_view_count": null,
            "_view_module": "@jupyter-widgets/controls",
            "_view_module_version": "1.5.0",
            "_view_name": "HTMLView",
            "description": "",
            "description_tooltip": null,
            "layout": "IPY_MODEL_ce45cf0914f5401ba5a7e8be54a21f84",
            "placeholder": "​",
            "style": "IPY_MODEL_679f944fb8e8450a86701d5f6319ecc6",
            "value": " 28.0/28.0 [00:00&lt;00:00, 2.02kB/s]"
          }
        },
        "349c0cd857b04f82894f9e5bfc60577a": {
          "model_module": "@jupyter-widgets/base",
          "model_name": "LayoutModel",
          "model_module_version": "1.2.0",
          "state": {
            "_model_module": "@jupyter-widgets/base",
            "_model_module_version": "1.2.0",
            "_model_name": "LayoutModel",
            "_view_count": null,
            "_view_module": "@jupyter-widgets/base",
            "_view_module_version": "1.2.0",
            "_view_name": "LayoutView",
            "align_content": null,
            "align_items": null,
            "align_self": null,
            "border": null,
            "bottom": null,
            "display": null,
            "flex": null,
            "flex_flow": null,
            "grid_area": null,
            "grid_auto_columns": null,
            "grid_auto_flow": null,
            "grid_auto_rows": null,
            "grid_column": null,
            "grid_gap": null,
            "grid_row": null,
            "grid_template_areas": null,
            "grid_template_columns": null,
            "grid_template_rows": null,
            "height": null,
            "justify_content": null,
            "justify_items": null,
            "left": null,
            "margin": null,
            "max_height": null,
            "max_width": null,
            "min_height": null,
            "min_width": null,
            "object_fit": null,
            "object_position": null,
            "order": null,
            "overflow": null,
            "overflow_x": null,
            "overflow_y": null,
            "padding": null,
            "right": null,
            "top": null,
            "visibility": null,
            "width": null
          }
        },
        "d1dd66783adc4ff69a6fdbefc8c89d2c": {
          "model_module": "@jupyter-widgets/base",
          "model_name": "LayoutModel",
          "model_module_version": "1.2.0",
          "state": {
            "_model_module": "@jupyter-widgets/base",
            "_model_module_version": "1.2.0",
            "_model_name": "LayoutModel",
            "_view_count": null,
            "_view_module": "@jupyter-widgets/base",
            "_view_module_version": "1.2.0",
            "_view_name": "LayoutView",
            "align_content": null,
            "align_items": null,
            "align_self": null,
            "border": null,
            "bottom": null,
            "display": null,
            "flex": null,
            "flex_flow": null,
            "grid_area": null,
            "grid_auto_columns": null,
            "grid_auto_flow": null,
            "grid_auto_rows": null,
            "grid_column": null,
            "grid_gap": null,
            "grid_row": null,
            "grid_template_areas": null,
            "grid_template_columns": null,
            "grid_template_rows": null,
            "height": null,
            "justify_content": null,
            "justify_items": null,
            "left": null,
            "margin": null,
            "max_height": null,
            "max_width": null,
            "min_height": null,
            "min_width": null,
            "object_fit": null,
            "object_position": null,
            "order": null,
            "overflow": null,
            "overflow_x": null,
            "overflow_y": null,
            "padding": null,
            "right": null,
            "top": null,
            "visibility": null,
            "width": null
          }
        },
        "ccd7f8ddb8794b64ad4a0774da9a656f": {
          "model_module": "@jupyter-widgets/controls",
          "model_name": "DescriptionStyleModel",
          "model_module_version": "1.5.0",
          "state": {
            "_model_module": "@jupyter-widgets/controls",
            "_model_module_version": "1.5.0",
            "_model_name": "DescriptionStyleModel",
            "_view_count": null,
            "_view_module": "@jupyter-widgets/base",
            "_view_module_version": "1.2.0",
            "_view_name": "StyleView",
            "description_width": ""
          }
        },
        "6c300f740d764b718dad6bcc0d0455fb": {
          "model_module": "@jupyter-widgets/base",
          "model_name": "LayoutModel",
          "model_module_version": "1.2.0",
          "state": {
            "_model_module": "@jupyter-widgets/base",
            "_model_module_version": "1.2.0",
            "_model_name": "LayoutModel",
            "_view_count": null,
            "_view_module": "@jupyter-widgets/base",
            "_view_module_version": "1.2.0",
            "_view_name": "LayoutView",
            "align_content": null,
            "align_items": null,
            "align_self": null,
            "border": null,
            "bottom": null,
            "display": null,
            "flex": null,
            "flex_flow": null,
            "grid_area": null,
            "grid_auto_columns": null,
            "grid_auto_flow": null,
            "grid_auto_rows": null,
            "grid_column": null,
            "grid_gap": null,
            "grid_row": null,
            "grid_template_areas": null,
            "grid_template_columns": null,
            "grid_template_rows": null,
            "height": null,
            "justify_content": null,
            "justify_items": null,
            "left": null,
            "margin": null,
            "max_height": null,
            "max_width": null,
            "min_height": null,
            "min_width": null,
            "object_fit": null,
            "object_position": null,
            "order": null,
            "overflow": null,
            "overflow_x": null,
            "overflow_y": null,
            "padding": null,
            "right": null,
            "top": null,
            "visibility": null,
            "width": null
          }
        },
        "6ed40694a5a54852836cd3bfbddd948c": {
          "model_module": "@jupyter-widgets/controls",
          "model_name": "ProgressStyleModel",
          "model_module_version": "1.5.0",
          "state": {
            "_model_module": "@jupyter-widgets/controls",
            "_model_module_version": "1.5.0",
            "_model_name": "ProgressStyleModel",
            "_view_count": null,
            "_view_module": "@jupyter-widgets/base",
            "_view_module_version": "1.2.0",
            "_view_name": "StyleView",
            "bar_color": null,
            "description_width": ""
          }
        },
        "ce45cf0914f5401ba5a7e8be54a21f84": {
          "model_module": "@jupyter-widgets/base",
          "model_name": "LayoutModel",
          "model_module_version": "1.2.0",
          "state": {
            "_model_module": "@jupyter-widgets/base",
            "_model_module_version": "1.2.0",
            "_model_name": "LayoutModel",
            "_view_count": null,
            "_view_module": "@jupyter-widgets/base",
            "_view_module_version": "1.2.0",
            "_view_name": "LayoutView",
            "align_content": null,
            "align_items": null,
            "align_self": null,
            "border": null,
            "bottom": null,
            "display": null,
            "flex": null,
            "flex_flow": null,
            "grid_area": null,
            "grid_auto_columns": null,
            "grid_auto_flow": null,
            "grid_auto_rows": null,
            "grid_column": null,
            "grid_gap": null,
            "grid_row": null,
            "grid_template_areas": null,
            "grid_template_columns": null,
            "grid_template_rows": null,
            "height": null,
            "justify_content": null,
            "justify_items": null,
            "left": null,
            "margin": null,
            "max_height": null,
            "max_width": null,
            "min_height": null,
            "min_width": null,
            "object_fit": null,
            "object_position": null,
            "order": null,
            "overflow": null,
            "overflow_x": null,
            "overflow_y": null,
            "padding": null,
            "right": null,
            "top": null,
            "visibility": null,
            "width": null
          }
        },
        "679f944fb8e8450a86701d5f6319ecc6": {
          "model_module": "@jupyter-widgets/controls",
          "model_name": "DescriptionStyleModel",
          "model_module_version": "1.5.0",
          "state": {
            "_model_module": "@jupyter-widgets/controls",
            "_model_module_version": "1.5.0",
            "_model_name": "DescriptionStyleModel",
            "_view_count": null,
            "_view_module": "@jupyter-widgets/base",
            "_view_module_version": "1.2.0",
            "_view_name": "StyleView",
            "description_width": ""
          }
        },
        "9c0162e1cc47462b8906f8a7452f8a13": {
          "model_module": "@jupyter-widgets/controls",
          "model_name": "HBoxModel",
          "model_module_version": "1.5.0",
          "state": {
            "_dom_classes": [],
            "_model_module": "@jupyter-widgets/controls",
            "_model_module_version": "1.5.0",
            "_model_name": "HBoxModel",
            "_view_count": null,
            "_view_module": "@jupyter-widgets/controls",
            "_view_module_version": "1.5.0",
            "_view_name": "HBoxView",
            "box_style": "",
            "children": [
              "IPY_MODEL_014882d0c6764f4dba3298ef68d2a8ff",
              "IPY_MODEL_ff7794cef98f438480ef087b55f248ef",
              "IPY_MODEL_973dd65e870049e994b28c6e81547fd7"
            ],
            "layout": "IPY_MODEL_cf5b4a93289e4a3284a2ecadd82490ef"
          }
        },
        "014882d0c6764f4dba3298ef68d2a8ff": {
          "model_module": "@jupyter-widgets/controls",
          "model_name": "HTMLModel",
          "model_module_version": "1.5.0",
          "state": {
            "_dom_classes": [],
            "_model_module": "@jupyter-widgets/controls",
            "_model_module_version": "1.5.0",
            "_model_name": "HTMLModel",
            "_view_count": null,
            "_view_module": "@jupyter-widgets/controls",
            "_view_module_version": "1.5.0",
            "_view_name": "HTMLView",
            "description": "",
            "description_tooltip": null,
            "layout": "IPY_MODEL_81080814584649d6ae3aca91a1b01d04",
            "placeholder": "​",
            "style": "IPY_MODEL_63eb646d7bec4614b5ae4094075a313f",
            "value": "Downloading (…)lve/main/config.json: 100%"
          }
        },
        "ff7794cef98f438480ef087b55f248ef": {
          "model_module": "@jupyter-widgets/controls",
          "model_name": "FloatProgressModel",
          "model_module_version": "1.5.0",
          "state": {
            "_dom_classes": [],
            "_model_module": "@jupyter-widgets/controls",
            "_model_module_version": "1.5.0",
            "_model_name": "FloatProgressModel",
            "_view_count": null,
            "_view_module": "@jupyter-widgets/controls",
            "_view_module_version": "1.5.0",
            "_view_name": "ProgressView",
            "bar_style": "success",
            "description": "",
            "description_tooltip": null,
            "layout": "IPY_MODEL_0b06cd3500374a8ba2970487c94cc923",
            "max": 570,
            "min": 0,
            "orientation": "horizontal",
            "style": "IPY_MODEL_33079a6e1a4d4eff9cc0562c0742e38a",
            "value": 570
          }
        },
        "973dd65e870049e994b28c6e81547fd7": {
          "model_module": "@jupyter-widgets/controls",
          "model_name": "HTMLModel",
          "model_module_version": "1.5.0",
          "state": {
            "_dom_classes": [],
            "_model_module": "@jupyter-widgets/controls",
            "_model_module_version": "1.5.0",
            "_model_name": "HTMLModel",
            "_view_count": null,
            "_view_module": "@jupyter-widgets/controls",
            "_view_module_version": "1.5.0",
            "_view_name": "HTMLView",
            "description": "",
            "description_tooltip": null,
            "layout": "IPY_MODEL_601bf1dacc264380b26d012b530e62e3",
            "placeholder": "​",
            "style": "IPY_MODEL_42c99f571d7f443dab9173ee05326b41",
            "value": " 570/570 [00:00&lt;00:00, 33.1kB/s]"
          }
        },
        "cf5b4a93289e4a3284a2ecadd82490ef": {
          "model_module": "@jupyter-widgets/base",
          "model_name": "LayoutModel",
          "model_module_version": "1.2.0",
          "state": {
            "_model_module": "@jupyter-widgets/base",
            "_model_module_version": "1.2.0",
            "_model_name": "LayoutModel",
            "_view_count": null,
            "_view_module": "@jupyter-widgets/base",
            "_view_module_version": "1.2.0",
            "_view_name": "LayoutView",
            "align_content": null,
            "align_items": null,
            "align_self": null,
            "border": null,
            "bottom": null,
            "display": null,
            "flex": null,
            "flex_flow": null,
            "grid_area": null,
            "grid_auto_columns": null,
            "grid_auto_flow": null,
            "grid_auto_rows": null,
            "grid_column": null,
            "grid_gap": null,
            "grid_row": null,
            "grid_template_areas": null,
            "grid_template_columns": null,
            "grid_template_rows": null,
            "height": null,
            "justify_content": null,
            "justify_items": null,
            "left": null,
            "margin": null,
            "max_height": null,
            "max_width": null,
            "min_height": null,
            "min_width": null,
            "object_fit": null,
            "object_position": null,
            "order": null,
            "overflow": null,
            "overflow_x": null,
            "overflow_y": null,
            "padding": null,
            "right": null,
            "top": null,
            "visibility": null,
            "width": null
          }
        },
        "81080814584649d6ae3aca91a1b01d04": {
          "model_module": "@jupyter-widgets/base",
          "model_name": "LayoutModel",
          "model_module_version": "1.2.0",
          "state": {
            "_model_module": "@jupyter-widgets/base",
            "_model_module_version": "1.2.0",
            "_model_name": "LayoutModel",
            "_view_count": null,
            "_view_module": "@jupyter-widgets/base",
            "_view_module_version": "1.2.0",
            "_view_name": "LayoutView",
            "align_content": null,
            "align_items": null,
            "align_self": null,
            "border": null,
            "bottom": null,
            "display": null,
            "flex": null,
            "flex_flow": null,
            "grid_area": null,
            "grid_auto_columns": null,
            "grid_auto_flow": null,
            "grid_auto_rows": null,
            "grid_column": null,
            "grid_gap": null,
            "grid_row": null,
            "grid_template_areas": null,
            "grid_template_columns": null,
            "grid_template_rows": null,
            "height": null,
            "justify_content": null,
            "justify_items": null,
            "left": null,
            "margin": null,
            "max_height": null,
            "max_width": null,
            "min_height": null,
            "min_width": null,
            "object_fit": null,
            "object_position": null,
            "order": null,
            "overflow": null,
            "overflow_x": null,
            "overflow_y": null,
            "padding": null,
            "right": null,
            "top": null,
            "visibility": null,
            "width": null
          }
        },
        "63eb646d7bec4614b5ae4094075a313f": {
          "model_module": "@jupyter-widgets/controls",
          "model_name": "DescriptionStyleModel",
          "model_module_version": "1.5.0",
          "state": {
            "_model_module": "@jupyter-widgets/controls",
            "_model_module_version": "1.5.0",
            "_model_name": "DescriptionStyleModel",
            "_view_count": null,
            "_view_module": "@jupyter-widgets/base",
            "_view_module_version": "1.2.0",
            "_view_name": "StyleView",
            "description_width": ""
          }
        },
        "0b06cd3500374a8ba2970487c94cc923": {
          "model_module": "@jupyter-widgets/base",
          "model_name": "LayoutModel",
          "model_module_version": "1.2.0",
          "state": {
            "_model_module": "@jupyter-widgets/base",
            "_model_module_version": "1.2.0",
            "_model_name": "LayoutModel",
            "_view_count": null,
            "_view_module": "@jupyter-widgets/base",
            "_view_module_version": "1.2.0",
            "_view_name": "LayoutView",
            "align_content": null,
            "align_items": null,
            "align_self": null,
            "border": null,
            "bottom": null,
            "display": null,
            "flex": null,
            "flex_flow": null,
            "grid_area": null,
            "grid_auto_columns": null,
            "grid_auto_flow": null,
            "grid_auto_rows": null,
            "grid_column": null,
            "grid_gap": null,
            "grid_row": null,
            "grid_template_areas": null,
            "grid_template_columns": null,
            "grid_template_rows": null,
            "height": null,
            "justify_content": null,
            "justify_items": null,
            "left": null,
            "margin": null,
            "max_height": null,
            "max_width": null,
            "min_height": null,
            "min_width": null,
            "object_fit": null,
            "object_position": null,
            "order": null,
            "overflow": null,
            "overflow_x": null,
            "overflow_y": null,
            "padding": null,
            "right": null,
            "top": null,
            "visibility": null,
            "width": null
          }
        },
        "33079a6e1a4d4eff9cc0562c0742e38a": {
          "model_module": "@jupyter-widgets/controls",
          "model_name": "ProgressStyleModel",
          "model_module_version": "1.5.0",
          "state": {
            "_model_module": "@jupyter-widgets/controls",
            "_model_module_version": "1.5.0",
            "_model_name": "ProgressStyleModel",
            "_view_count": null,
            "_view_module": "@jupyter-widgets/base",
            "_view_module_version": "1.2.0",
            "_view_name": "StyleView",
            "bar_color": null,
            "description_width": ""
          }
        },
        "601bf1dacc264380b26d012b530e62e3": {
          "model_module": "@jupyter-widgets/base",
          "model_name": "LayoutModel",
          "model_module_version": "1.2.0",
          "state": {
            "_model_module": "@jupyter-widgets/base",
            "_model_module_version": "1.2.0",
            "_model_name": "LayoutModel",
            "_view_count": null,
            "_view_module": "@jupyter-widgets/base",
            "_view_module_version": "1.2.0",
            "_view_name": "LayoutView",
            "align_content": null,
            "align_items": null,
            "align_self": null,
            "border": null,
            "bottom": null,
            "display": null,
            "flex": null,
            "flex_flow": null,
            "grid_area": null,
            "grid_auto_columns": null,
            "grid_auto_flow": null,
            "grid_auto_rows": null,
            "grid_column": null,
            "grid_gap": null,
            "grid_row": null,
            "grid_template_areas": null,
            "grid_template_columns": null,
            "grid_template_rows": null,
            "height": null,
            "justify_content": null,
            "justify_items": null,
            "left": null,
            "margin": null,
            "max_height": null,
            "max_width": null,
            "min_height": null,
            "min_width": null,
            "object_fit": null,
            "object_position": null,
            "order": null,
            "overflow": null,
            "overflow_x": null,
            "overflow_y": null,
            "padding": null,
            "right": null,
            "top": null,
            "visibility": null,
            "width": null
          }
        },
        "42c99f571d7f443dab9173ee05326b41": {
          "model_module": "@jupyter-widgets/controls",
          "model_name": "DescriptionStyleModel",
          "model_module_version": "1.5.0",
          "state": {
            "_model_module": "@jupyter-widgets/controls",
            "_model_module_version": "1.5.0",
            "_model_name": "DescriptionStyleModel",
            "_view_count": null,
            "_view_module": "@jupyter-widgets/base",
            "_view_module_version": "1.2.0",
            "_view_name": "StyleView",
            "description_width": ""
          }
        },
        "9d467e34ed2c4f04b5117e7031bc97c4": {
          "model_module": "@jupyter-widgets/controls",
          "model_name": "HBoxModel",
          "model_module_version": "1.5.0",
          "state": {
            "_dom_classes": [],
            "_model_module": "@jupyter-widgets/controls",
            "_model_module_version": "1.5.0",
            "_model_name": "HBoxModel",
            "_view_count": null,
            "_view_module": "@jupyter-widgets/controls",
            "_view_module_version": "1.5.0",
            "_view_name": "HBoxView",
            "box_style": "",
            "children": [
              "IPY_MODEL_a8e81f2948eb4987994bfaff1ca42b1d",
              "IPY_MODEL_028567caedc543e7bad9c711c09236f3",
              "IPY_MODEL_ef00cd91f0a74248af97848c3f1f6813"
            ],
            "layout": "IPY_MODEL_284e012328b44d9a9cd3eea23ac09de0"
          }
        },
        "a8e81f2948eb4987994bfaff1ca42b1d": {
          "model_module": "@jupyter-widgets/controls",
          "model_name": "HTMLModel",
          "model_module_version": "1.5.0",
          "state": {
            "_dom_classes": [],
            "_model_module": "@jupyter-widgets/controls",
            "_model_module_version": "1.5.0",
            "_model_name": "HTMLModel",
            "_view_count": null,
            "_view_module": "@jupyter-widgets/controls",
            "_view_module_version": "1.5.0",
            "_view_name": "HTMLView",
            "description": "",
            "description_tooltip": null,
            "layout": "IPY_MODEL_21d5fc3ebe094f3382d86ffe3688aa54",
            "placeholder": "​",
            "style": "IPY_MODEL_6d9c8415c7454c7eaced84cb8d236578",
            "value": "Downloading (…)solve/main/vocab.txt: 100%"
          }
        },
        "028567caedc543e7bad9c711c09236f3": {
          "model_module": "@jupyter-widgets/controls",
          "model_name": "FloatProgressModel",
          "model_module_version": "1.5.0",
          "state": {
            "_dom_classes": [],
            "_model_module": "@jupyter-widgets/controls",
            "_model_module_version": "1.5.0",
            "_model_name": "FloatProgressModel",
            "_view_count": null,
            "_view_module": "@jupyter-widgets/controls",
            "_view_module_version": "1.5.0",
            "_view_name": "ProgressView",
            "bar_style": "success",
            "description": "",
            "description_tooltip": null,
            "layout": "IPY_MODEL_d77b6c8790804d62b73da236fa5fcb0c",
            "max": 231508,
            "min": 0,
            "orientation": "horizontal",
            "style": "IPY_MODEL_c0617a3190db4d58b0b95a875185d928",
            "value": 231508
          }
        },
        "ef00cd91f0a74248af97848c3f1f6813": {
          "model_module": "@jupyter-widgets/controls",
          "model_name": "HTMLModel",
          "model_module_version": "1.5.0",
          "state": {
            "_dom_classes": [],
            "_model_module": "@jupyter-widgets/controls",
            "_model_module_version": "1.5.0",
            "_model_name": "HTMLModel",
            "_view_count": null,
            "_view_module": "@jupyter-widgets/controls",
            "_view_module_version": "1.5.0",
            "_view_name": "HTMLView",
            "description": "",
            "description_tooltip": null,
            "layout": "IPY_MODEL_5ac71ea8fc4d48928bc59a9481f38329",
            "placeholder": "​",
            "style": "IPY_MODEL_55f5b2c47f114ef3b5a4fd2a6300755e",
            "value": " 232k/232k [00:00&lt;00:00, 507kB/s]"
          }
        },
        "284e012328b44d9a9cd3eea23ac09de0": {
          "model_module": "@jupyter-widgets/base",
          "model_name": "LayoutModel",
          "model_module_version": "1.2.0",
          "state": {
            "_model_module": "@jupyter-widgets/base",
            "_model_module_version": "1.2.0",
            "_model_name": "LayoutModel",
            "_view_count": null,
            "_view_module": "@jupyter-widgets/base",
            "_view_module_version": "1.2.0",
            "_view_name": "LayoutView",
            "align_content": null,
            "align_items": null,
            "align_self": null,
            "border": null,
            "bottom": null,
            "display": null,
            "flex": null,
            "flex_flow": null,
            "grid_area": null,
            "grid_auto_columns": null,
            "grid_auto_flow": null,
            "grid_auto_rows": null,
            "grid_column": null,
            "grid_gap": null,
            "grid_row": null,
            "grid_template_areas": null,
            "grid_template_columns": null,
            "grid_template_rows": null,
            "height": null,
            "justify_content": null,
            "justify_items": null,
            "left": null,
            "margin": null,
            "max_height": null,
            "max_width": null,
            "min_height": null,
            "min_width": null,
            "object_fit": null,
            "object_position": null,
            "order": null,
            "overflow": null,
            "overflow_x": null,
            "overflow_y": null,
            "padding": null,
            "right": null,
            "top": null,
            "visibility": null,
            "width": null
          }
        },
        "21d5fc3ebe094f3382d86ffe3688aa54": {
          "model_module": "@jupyter-widgets/base",
          "model_name": "LayoutModel",
          "model_module_version": "1.2.0",
          "state": {
            "_model_module": "@jupyter-widgets/base",
            "_model_module_version": "1.2.0",
            "_model_name": "LayoutModel",
            "_view_count": null,
            "_view_module": "@jupyter-widgets/base",
            "_view_module_version": "1.2.0",
            "_view_name": "LayoutView",
            "align_content": null,
            "align_items": null,
            "align_self": null,
            "border": null,
            "bottom": null,
            "display": null,
            "flex": null,
            "flex_flow": null,
            "grid_area": null,
            "grid_auto_columns": null,
            "grid_auto_flow": null,
            "grid_auto_rows": null,
            "grid_column": null,
            "grid_gap": null,
            "grid_row": null,
            "grid_template_areas": null,
            "grid_template_columns": null,
            "grid_template_rows": null,
            "height": null,
            "justify_content": null,
            "justify_items": null,
            "left": null,
            "margin": null,
            "max_height": null,
            "max_width": null,
            "min_height": null,
            "min_width": null,
            "object_fit": null,
            "object_position": null,
            "order": null,
            "overflow": null,
            "overflow_x": null,
            "overflow_y": null,
            "padding": null,
            "right": null,
            "top": null,
            "visibility": null,
            "width": null
          }
        },
        "6d9c8415c7454c7eaced84cb8d236578": {
          "model_module": "@jupyter-widgets/controls",
          "model_name": "DescriptionStyleModel",
          "model_module_version": "1.5.0",
          "state": {
            "_model_module": "@jupyter-widgets/controls",
            "_model_module_version": "1.5.0",
            "_model_name": "DescriptionStyleModel",
            "_view_count": null,
            "_view_module": "@jupyter-widgets/base",
            "_view_module_version": "1.2.0",
            "_view_name": "StyleView",
            "description_width": ""
          }
        },
        "d77b6c8790804d62b73da236fa5fcb0c": {
          "model_module": "@jupyter-widgets/base",
          "model_name": "LayoutModel",
          "model_module_version": "1.2.0",
          "state": {
            "_model_module": "@jupyter-widgets/base",
            "_model_module_version": "1.2.0",
            "_model_name": "LayoutModel",
            "_view_count": null,
            "_view_module": "@jupyter-widgets/base",
            "_view_module_version": "1.2.0",
            "_view_name": "LayoutView",
            "align_content": null,
            "align_items": null,
            "align_self": null,
            "border": null,
            "bottom": null,
            "display": null,
            "flex": null,
            "flex_flow": null,
            "grid_area": null,
            "grid_auto_columns": null,
            "grid_auto_flow": null,
            "grid_auto_rows": null,
            "grid_column": null,
            "grid_gap": null,
            "grid_row": null,
            "grid_template_areas": null,
            "grid_template_columns": null,
            "grid_template_rows": null,
            "height": null,
            "justify_content": null,
            "justify_items": null,
            "left": null,
            "margin": null,
            "max_height": null,
            "max_width": null,
            "min_height": null,
            "min_width": null,
            "object_fit": null,
            "object_position": null,
            "order": null,
            "overflow": null,
            "overflow_x": null,
            "overflow_y": null,
            "padding": null,
            "right": null,
            "top": null,
            "visibility": null,
            "width": null
          }
        },
        "c0617a3190db4d58b0b95a875185d928": {
          "model_module": "@jupyter-widgets/controls",
          "model_name": "ProgressStyleModel",
          "model_module_version": "1.5.0",
          "state": {
            "_model_module": "@jupyter-widgets/controls",
            "_model_module_version": "1.5.0",
            "_model_name": "ProgressStyleModel",
            "_view_count": null,
            "_view_module": "@jupyter-widgets/base",
            "_view_module_version": "1.2.0",
            "_view_name": "StyleView",
            "bar_color": null,
            "description_width": ""
          }
        },
        "5ac71ea8fc4d48928bc59a9481f38329": {
          "model_module": "@jupyter-widgets/base",
          "model_name": "LayoutModel",
          "model_module_version": "1.2.0",
          "state": {
            "_model_module": "@jupyter-widgets/base",
            "_model_module_version": "1.2.0",
            "_model_name": "LayoutModel",
            "_view_count": null,
            "_view_module": "@jupyter-widgets/base",
            "_view_module_version": "1.2.0",
            "_view_name": "LayoutView",
            "align_content": null,
            "align_items": null,
            "align_self": null,
            "border": null,
            "bottom": null,
            "display": null,
            "flex": null,
            "flex_flow": null,
            "grid_area": null,
            "grid_auto_columns": null,
            "grid_auto_flow": null,
            "grid_auto_rows": null,
            "grid_column": null,
            "grid_gap": null,
            "grid_row": null,
            "grid_template_areas": null,
            "grid_template_columns": null,
            "grid_template_rows": null,
            "height": null,
            "justify_content": null,
            "justify_items": null,
            "left": null,
            "margin": null,
            "max_height": null,
            "max_width": null,
            "min_height": null,
            "min_width": null,
            "object_fit": null,
            "object_position": null,
            "order": null,
            "overflow": null,
            "overflow_x": null,
            "overflow_y": null,
            "padding": null,
            "right": null,
            "top": null,
            "visibility": null,
            "width": null
          }
        },
        "55f5b2c47f114ef3b5a4fd2a6300755e": {
          "model_module": "@jupyter-widgets/controls",
          "model_name": "DescriptionStyleModel",
          "model_module_version": "1.5.0",
          "state": {
            "_model_module": "@jupyter-widgets/controls",
            "_model_module_version": "1.5.0",
            "_model_name": "DescriptionStyleModel",
            "_view_count": null,
            "_view_module": "@jupyter-widgets/base",
            "_view_module_version": "1.2.0",
            "_view_name": "StyleView",
            "description_width": ""
          }
        },
        "57eec50f018045778143df73772492be": {
          "model_module": "@jupyter-widgets/controls",
          "model_name": "HBoxModel",
          "model_module_version": "1.5.0",
          "state": {
            "_dom_classes": [],
            "_model_module": "@jupyter-widgets/controls",
            "_model_module_version": "1.5.0",
            "_model_name": "HBoxModel",
            "_view_count": null,
            "_view_module": "@jupyter-widgets/controls",
            "_view_module_version": "1.5.0",
            "_view_name": "HBoxView",
            "box_style": "",
            "children": [
              "IPY_MODEL_d7d99e472c3542b29296b54fdcf3acce",
              "IPY_MODEL_f68ecea065234acc8cea38faf8751ee2",
              "IPY_MODEL_dd99ee432e1346b1ba10d5645245e66e"
            ],
            "layout": "IPY_MODEL_af88330ba52245d8a2973d8db6f79f17"
          }
        },
        "d7d99e472c3542b29296b54fdcf3acce": {
          "model_module": "@jupyter-widgets/controls",
          "model_name": "HTMLModel",
          "model_module_version": "1.5.0",
          "state": {
            "_dom_classes": [],
            "_model_module": "@jupyter-widgets/controls",
            "_model_module_version": "1.5.0",
            "_model_name": "HTMLModel",
            "_view_count": null,
            "_view_module": "@jupyter-widgets/controls",
            "_view_module_version": "1.5.0",
            "_view_name": "HTMLView",
            "description": "",
            "description_tooltip": null,
            "layout": "IPY_MODEL_bc955640c1b3494d90558429320aaf2f",
            "placeholder": "​",
            "style": "IPY_MODEL_a78c835bc6ad492da64a1268e0f75cf3",
            "value": "Downloading (…)/main/tokenizer.json: 100%"
          }
        },
        "f68ecea065234acc8cea38faf8751ee2": {
          "model_module": "@jupyter-widgets/controls",
          "model_name": "FloatProgressModel",
          "model_module_version": "1.5.0",
          "state": {
            "_dom_classes": [],
            "_model_module": "@jupyter-widgets/controls",
            "_model_module_version": "1.5.0",
            "_model_name": "FloatProgressModel",
            "_view_count": null,
            "_view_module": "@jupyter-widgets/controls",
            "_view_module_version": "1.5.0",
            "_view_name": "ProgressView",
            "bar_style": "success",
            "description": "",
            "description_tooltip": null,
            "layout": "IPY_MODEL_214b55a597dc4951810a5b93a6c819de",
            "max": 466062,
            "min": 0,
            "orientation": "horizontal",
            "style": "IPY_MODEL_2537a88c35464774b532c38c6d0a995d",
            "value": 466062
          }
        },
        "dd99ee432e1346b1ba10d5645245e66e": {
          "model_module": "@jupyter-widgets/controls",
          "model_name": "HTMLModel",
          "model_module_version": "1.5.0",
          "state": {
            "_dom_classes": [],
            "_model_module": "@jupyter-widgets/controls",
            "_model_module_version": "1.5.0",
            "_model_name": "HTMLModel",
            "_view_count": null,
            "_view_module": "@jupyter-widgets/controls",
            "_view_module_version": "1.5.0",
            "_view_name": "HTMLView",
            "description": "",
            "description_tooltip": null,
            "layout": "IPY_MODEL_d9170d2cf006405dba2f27e9edf6504e",
            "placeholder": "​",
            "style": "IPY_MODEL_3cc4993a6a9a4aac98717de2a9da35f4",
            "value": " 466k/466k [00:00&lt;00:00, 1.70MB/s]"
          }
        },
        "af88330ba52245d8a2973d8db6f79f17": {
          "model_module": "@jupyter-widgets/base",
          "model_name": "LayoutModel",
          "model_module_version": "1.2.0",
          "state": {
            "_model_module": "@jupyter-widgets/base",
            "_model_module_version": "1.2.0",
            "_model_name": "LayoutModel",
            "_view_count": null,
            "_view_module": "@jupyter-widgets/base",
            "_view_module_version": "1.2.0",
            "_view_name": "LayoutView",
            "align_content": null,
            "align_items": null,
            "align_self": null,
            "border": null,
            "bottom": null,
            "display": null,
            "flex": null,
            "flex_flow": null,
            "grid_area": null,
            "grid_auto_columns": null,
            "grid_auto_flow": null,
            "grid_auto_rows": null,
            "grid_column": null,
            "grid_gap": null,
            "grid_row": null,
            "grid_template_areas": null,
            "grid_template_columns": null,
            "grid_template_rows": null,
            "height": null,
            "justify_content": null,
            "justify_items": null,
            "left": null,
            "margin": null,
            "max_height": null,
            "max_width": null,
            "min_height": null,
            "min_width": null,
            "object_fit": null,
            "object_position": null,
            "order": null,
            "overflow": null,
            "overflow_x": null,
            "overflow_y": null,
            "padding": null,
            "right": null,
            "top": null,
            "visibility": null,
            "width": null
          }
        },
        "bc955640c1b3494d90558429320aaf2f": {
          "model_module": "@jupyter-widgets/base",
          "model_name": "LayoutModel",
          "model_module_version": "1.2.0",
          "state": {
            "_model_module": "@jupyter-widgets/base",
            "_model_module_version": "1.2.0",
            "_model_name": "LayoutModel",
            "_view_count": null,
            "_view_module": "@jupyter-widgets/base",
            "_view_module_version": "1.2.0",
            "_view_name": "LayoutView",
            "align_content": null,
            "align_items": null,
            "align_self": null,
            "border": null,
            "bottom": null,
            "display": null,
            "flex": null,
            "flex_flow": null,
            "grid_area": null,
            "grid_auto_columns": null,
            "grid_auto_flow": null,
            "grid_auto_rows": null,
            "grid_column": null,
            "grid_gap": null,
            "grid_row": null,
            "grid_template_areas": null,
            "grid_template_columns": null,
            "grid_template_rows": null,
            "height": null,
            "justify_content": null,
            "justify_items": null,
            "left": null,
            "margin": null,
            "max_height": null,
            "max_width": null,
            "min_height": null,
            "min_width": null,
            "object_fit": null,
            "object_position": null,
            "order": null,
            "overflow": null,
            "overflow_x": null,
            "overflow_y": null,
            "padding": null,
            "right": null,
            "top": null,
            "visibility": null,
            "width": null
          }
        },
        "a78c835bc6ad492da64a1268e0f75cf3": {
          "model_module": "@jupyter-widgets/controls",
          "model_name": "DescriptionStyleModel",
          "model_module_version": "1.5.0",
          "state": {
            "_model_module": "@jupyter-widgets/controls",
            "_model_module_version": "1.5.0",
            "_model_name": "DescriptionStyleModel",
            "_view_count": null,
            "_view_module": "@jupyter-widgets/base",
            "_view_module_version": "1.2.0",
            "_view_name": "StyleView",
            "description_width": ""
          }
        },
        "214b55a597dc4951810a5b93a6c819de": {
          "model_module": "@jupyter-widgets/base",
          "model_name": "LayoutModel",
          "model_module_version": "1.2.0",
          "state": {
            "_model_module": "@jupyter-widgets/base",
            "_model_module_version": "1.2.0",
            "_model_name": "LayoutModel",
            "_view_count": null,
            "_view_module": "@jupyter-widgets/base",
            "_view_module_version": "1.2.0",
            "_view_name": "LayoutView",
            "align_content": null,
            "align_items": null,
            "align_self": null,
            "border": null,
            "bottom": null,
            "display": null,
            "flex": null,
            "flex_flow": null,
            "grid_area": null,
            "grid_auto_columns": null,
            "grid_auto_flow": null,
            "grid_auto_rows": null,
            "grid_column": null,
            "grid_gap": null,
            "grid_row": null,
            "grid_template_areas": null,
            "grid_template_columns": null,
            "grid_template_rows": null,
            "height": null,
            "justify_content": null,
            "justify_items": null,
            "left": null,
            "margin": null,
            "max_height": null,
            "max_width": null,
            "min_height": null,
            "min_width": null,
            "object_fit": null,
            "object_position": null,
            "order": null,
            "overflow": null,
            "overflow_x": null,
            "overflow_y": null,
            "padding": null,
            "right": null,
            "top": null,
            "visibility": null,
            "width": null
          }
        },
        "2537a88c35464774b532c38c6d0a995d": {
          "model_module": "@jupyter-widgets/controls",
          "model_name": "ProgressStyleModel",
          "model_module_version": "1.5.0",
          "state": {
            "_model_module": "@jupyter-widgets/controls",
            "_model_module_version": "1.5.0",
            "_model_name": "ProgressStyleModel",
            "_view_count": null,
            "_view_module": "@jupyter-widgets/base",
            "_view_module_version": "1.2.0",
            "_view_name": "StyleView",
            "bar_color": null,
            "description_width": ""
          }
        },
        "d9170d2cf006405dba2f27e9edf6504e": {
          "model_module": "@jupyter-widgets/base",
          "model_name": "LayoutModel",
          "model_module_version": "1.2.0",
          "state": {
            "_model_module": "@jupyter-widgets/base",
            "_model_module_version": "1.2.0",
            "_model_name": "LayoutModel",
            "_view_count": null,
            "_view_module": "@jupyter-widgets/base",
            "_view_module_version": "1.2.0",
            "_view_name": "LayoutView",
            "align_content": null,
            "align_items": null,
            "align_self": null,
            "border": null,
            "bottom": null,
            "display": null,
            "flex": null,
            "flex_flow": null,
            "grid_area": null,
            "grid_auto_columns": null,
            "grid_auto_flow": null,
            "grid_auto_rows": null,
            "grid_column": null,
            "grid_gap": null,
            "grid_row": null,
            "grid_template_areas": null,
            "grid_template_columns": null,
            "grid_template_rows": null,
            "height": null,
            "justify_content": null,
            "justify_items": null,
            "left": null,
            "margin": null,
            "max_height": null,
            "max_width": null,
            "min_height": null,
            "min_width": null,
            "object_fit": null,
            "object_position": null,
            "order": null,
            "overflow": null,
            "overflow_x": null,
            "overflow_y": null,
            "padding": null,
            "right": null,
            "top": null,
            "visibility": null,
            "width": null
          }
        },
        "3cc4993a6a9a4aac98717de2a9da35f4": {
          "model_module": "@jupyter-widgets/controls",
          "model_name": "DescriptionStyleModel",
          "model_module_version": "1.5.0",
          "state": {
            "_model_module": "@jupyter-widgets/controls",
            "_model_module_version": "1.5.0",
            "_model_name": "DescriptionStyleModel",
            "_view_count": null,
            "_view_module": "@jupyter-widgets/base",
            "_view_module_version": "1.2.0",
            "_view_name": "StyleView",
            "description_width": ""
          }
        },
        "f11d509302214bf692ea13f2fc63c7cf": {
          "model_module": "@jupyter-widgets/controls",
          "model_name": "HBoxModel",
          "model_module_version": "1.5.0",
          "state": {
            "_dom_classes": [],
            "_model_module": "@jupyter-widgets/controls",
            "_model_module_version": "1.5.0",
            "_model_name": "HBoxModel",
            "_view_count": null,
            "_view_module": "@jupyter-widgets/controls",
            "_view_module_version": "1.5.0",
            "_view_name": "HBoxView",
            "box_style": "",
            "children": [
              "IPY_MODEL_a470bbe073924635bce3bfd4730012ad",
              "IPY_MODEL_6fa4e1ffa088480785cc2e4d9be2719d",
              "IPY_MODEL_f0cf7c31c22844e4a71aece44c233195"
            ],
            "layout": "IPY_MODEL_fe624e578aa14e4ea66e03dfa45b2a53"
          }
        },
        "a470bbe073924635bce3bfd4730012ad": {
          "model_module": "@jupyter-widgets/controls",
          "model_name": "HTMLModel",
          "model_module_version": "1.5.0",
          "state": {
            "_dom_classes": [],
            "_model_module": "@jupyter-widgets/controls",
            "_model_module_version": "1.5.0",
            "_model_name": "HTMLModel",
            "_view_count": null,
            "_view_module": "@jupyter-widgets/controls",
            "_view_module_version": "1.5.0",
            "_view_name": "HTMLView",
            "description": "",
            "description_tooltip": null,
            "layout": "IPY_MODEL_774c8f7c0d804723b081862336f9de20",
            "placeholder": "​",
            "style": "IPY_MODEL_5a2230a5f5a04a888b9a8c23a6a9a980",
            "value": "Downloading model.safetensors: 100%"
          }
        },
        "6fa4e1ffa088480785cc2e4d9be2719d": {
          "model_module": "@jupyter-widgets/controls",
          "model_name": "FloatProgressModel",
          "model_module_version": "1.5.0",
          "state": {
            "_dom_classes": [],
            "_model_module": "@jupyter-widgets/controls",
            "_model_module_version": "1.5.0",
            "_model_name": "FloatProgressModel",
            "_view_count": null,
            "_view_module": "@jupyter-widgets/controls",
            "_view_module_version": "1.5.0",
            "_view_name": "ProgressView",
            "bar_style": "success",
            "description": "",
            "description_tooltip": null,
            "layout": "IPY_MODEL_668c1774481f45959264e531ce8f02d8",
            "max": 440449768,
            "min": 0,
            "orientation": "horizontal",
            "style": "IPY_MODEL_7d5ed16284a74842807fea2e0a975a7f",
            "value": 440449768
          }
        },
        "f0cf7c31c22844e4a71aece44c233195": {
          "model_module": "@jupyter-widgets/controls",
          "model_name": "HTMLModel",
          "model_module_version": "1.5.0",
          "state": {
            "_dom_classes": [],
            "_model_module": "@jupyter-widgets/controls",
            "_model_module_version": "1.5.0",
            "_model_name": "HTMLModel",
            "_view_count": null,
            "_view_module": "@jupyter-widgets/controls",
            "_view_module_version": "1.5.0",
            "_view_name": "HTMLView",
            "description": "",
            "description_tooltip": null,
            "layout": "IPY_MODEL_984877653f5444a58c88aa1d651e7ffe",
            "placeholder": "​",
            "style": "IPY_MODEL_3be0f8420c0b48169c708b06ddc67a95",
            "value": " 440M/440M [00:01&lt;00:00, 368MB/s]"
          }
        },
        "fe624e578aa14e4ea66e03dfa45b2a53": {
          "model_module": "@jupyter-widgets/base",
          "model_name": "LayoutModel",
          "model_module_version": "1.2.0",
          "state": {
            "_model_module": "@jupyter-widgets/base",
            "_model_module_version": "1.2.0",
            "_model_name": "LayoutModel",
            "_view_count": null,
            "_view_module": "@jupyter-widgets/base",
            "_view_module_version": "1.2.0",
            "_view_name": "LayoutView",
            "align_content": null,
            "align_items": null,
            "align_self": null,
            "border": null,
            "bottom": null,
            "display": null,
            "flex": null,
            "flex_flow": null,
            "grid_area": null,
            "grid_auto_columns": null,
            "grid_auto_flow": null,
            "grid_auto_rows": null,
            "grid_column": null,
            "grid_gap": null,
            "grid_row": null,
            "grid_template_areas": null,
            "grid_template_columns": null,
            "grid_template_rows": null,
            "height": null,
            "justify_content": null,
            "justify_items": null,
            "left": null,
            "margin": null,
            "max_height": null,
            "max_width": null,
            "min_height": null,
            "min_width": null,
            "object_fit": null,
            "object_position": null,
            "order": null,
            "overflow": null,
            "overflow_x": null,
            "overflow_y": null,
            "padding": null,
            "right": null,
            "top": null,
            "visibility": null,
            "width": null
          }
        },
        "774c8f7c0d804723b081862336f9de20": {
          "model_module": "@jupyter-widgets/base",
          "model_name": "LayoutModel",
          "model_module_version": "1.2.0",
          "state": {
            "_model_module": "@jupyter-widgets/base",
            "_model_module_version": "1.2.0",
            "_model_name": "LayoutModel",
            "_view_count": null,
            "_view_module": "@jupyter-widgets/base",
            "_view_module_version": "1.2.0",
            "_view_name": "LayoutView",
            "align_content": null,
            "align_items": null,
            "align_self": null,
            "border": null,
            "bottom": null,
            "display": null,
            "flex": null,
            "flex_flow": null,
            "grid_area": null,
            "grid_auto_columns": null,
            "grid_auto_flow": null,
            "grid_auto_rows": null,
            "grid_column": null,
            "grid_gap": null,
            "grid_row": null,
            "grid_template_areas": null,
            "grid_template_columns": null,
            "grid_template_rows": null,
            "height": null,
            "justify_content": null,
            "justify_items": null,
            "left": null,
            "margin": null,
            "max_height": null,
            "max_width": null,
            "min_height": null,
            "min_width": null,
            "object_fit": null,
            "object_position": null,
            "order": null,
            "overflow": null,
            "overflow_x": null,
            "overflow_y": null,
            "padding": null,
            "right": null,
            "top": null,
            "visibility": null,
            "width": null
          }
        },
        "5a2230a5f5a04a888b9a8c23a6a9a980": {
          "model_module": "@jupyter-widgets/controls",
          "model_name": "DescriptionStyleModel",
          "model_module_version": "1.5.0",
          "state": {
            "_model_module": "@jupyter-widgets/controls",
            "_model_module_version": "1.5.0",
            "_model_name": "DescriptionStyleModel",
            "_view_count": null,
            "_view_module": "@jupyter-widgets/base",
            "_view_module_version": "1.2.0",
            "_view_name": "StyleView",
            "description_width": ""
          }
        },
        "668c1774481f45959264e531ce8f02d8": {
          "model_module": "@jupyter-widgets/base",
          "model_name": "LayoutModel",
          "model_module_version": "1.2.0",
          "state": {
            "_model_module": "@jupyter-widgets/base",
            "_model_module_version": "1.2.0",
            "_model_name": "LayoutModel",
            "_view_count": null,
            "_view_module": "@jupyter-widgets/base",
            "_view_module_version": "1.2.0",
            "_view_name": "LayoutView",
            "align_content": null,
            "align_items": null,
            "align_self": null,
            "border": null,
            "bottom": null,
            "display": null,
            "flex": null,
            "flex_flow": null,
            "grid_area": null,
            "grid_auto_columns": null,
            "grid_auto_flow": null,
            "grid_auto_rows": null,
            "grid_column": null,
            "grid_gap": null,
            "grid_row": null,
            "grid_template_areas": null,
            "grid_template_columns": null,
            "grid_template_rows": null,
            "height": null,
            "justify_content": null,
            "justify_items": null,
            "left": null,
            "margin": null,
            "max_height": null,
            "max_width": null,
            "min_height": null,
            "min_width": null,
            "object_fit": null,
            "object_position": null,
            "order": null,
            "overflow": null,
            "overflow_x": null,
            "overflow_y": null,
            "padding": null,
            "right": null,
            "top": null,
            "visibility": null,
            "width": null
          }
        },
        "7d5ed16284a74842807fea2e0a975a7f": {
          "model_module": "@jupyter-widgets/controls",
          "model_name": "ProgressStyleModel",
          "model_module_version": "1.5.0",
          "state": {
            "_model_module": "@jupyter-widgets/controls",
            "_model_module_version": "1.5.0",
            "_model_name": "ProgressStyleModel",
            "_view_count": null,
            "_view_module": "@jupyter-widgets/base",
            "_view_module_version": "1.2.0",
            "_view_name": "StyleView",
            "bar_color": null,
            "description_width": ""
          }
        },
        "984877653f5444a58c88aa1d651e7ffe": {
          "model_module": "@jupyter-widgets/base",
          "model_name": "LayoutModel",
          "model_module_version": "1.2.0",
          "state": {
            "_model_module": "@jupyter-widgets/base",
            "_model_module_version": "1.2.0",
            "_model_name": "LayoutModel",
            "_view_count": null,
            "_view_module": "@jupyter-widgets/base",
            "_view_module_version": "1.2.0",
            "_view_name": "LayoutView",
            "align_content": null,
            "align_items": null,
            "align_self": null,
            "border": null,
            "bottom": null,
            "display": null,
            "flex": null,
            "flex_flow": null,
            "grid_area": null,
            "grid_auto_columns": null,
            "grid_auto_flow": null,
            "grid_auto_rows": null,
            "grid_column": null,
            "grid_gap": null,
            "grid_row": null,
            "grid_template_areas": null,
            "grid_template_columns": null,
            "grid_template_rows": null,
            "height": null,
            "justify_content": null,
            "justify_items": null,
            "left": null,
            "margin": null,
            "max_height": null,
            "max_width": null,
            "min_height": null,
            "min_width": null,
            "object_fit": null,
            "object_position": null,
            "order": null,
            "overflow": null,
            "overflow_x": null,
            "overflow_y": null,
            "padding": null,
            "right": null,
            "top": null,
            "visibility": null,
            "width": null
          }
        },
        "3be0f8420c0b48169c708b06ddc67a95": {
          "model_module": "@jupyter-widgets/controls",
          "model_name": "DescriptionStyleModel",
          "model_module_version": "1.5.0",
          "state": {
            "_model_module": "@jupyter-widgets/controls",
            "_model_module_version": "1.5.0",
            "_model_name": "DescriptionStyleModel",
            "_view_count": null,
            "_view_module": "@jupyter-widgets/base",
            "_view_module_version": "1.2.0",
            "_view_name": "StyleView",
            "description_width": ""
          }
        }
      }
    }
  },
  "nbformat": 4,
  "nbformat_minor": 0
}